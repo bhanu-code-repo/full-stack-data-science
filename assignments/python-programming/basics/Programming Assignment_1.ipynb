{
 "cells": [
  {
   "cell_type": "markdown",
   "id": "d145475d",
   "metadata": {},
   "source": [
    "### Question 1: Write a Python program to print \"Hello Python\"?"
   ]
  },
  {
   "cell_type": "code",
   "execution_count": 1,
   "id": "c1e70937",
   "metadata": {},
   "outputs": [
    {
     "name": "stdout",
     "output_type": "stream",
     "text": [
      "Hello Python\n"
     ]
    }
   ],
   "source": [
    "print('Hello Python')"
   ]
  },
  {
   "cell_type": "markdown",
   "id": "c2530c51",
   "metadata": {},
   "source": [
    "### Question 2: Write a Python program to do arithmetical operations addition and division?"
   ]
  },
  {
   "cell_type": "code",
   "execution_count": 2,
   "id": "ae62cedf",
   "metadata": {},
   "outputs": [
    {
     "data": {
      "text/plain": [
       "30"
      ]
     },
     "execution_count": 2,
     "metadata": {},
     "output_type": "execute_result"
    }
   ],
   "source": [
    "# Addition\n",
    "A = 10\n",
    "B = 20\n",
    "addition = A + B\n",
    "addition"
   ]
  },
  {
   "cell_type": "code",
   "execution_count": 3,
   "id": "d70541d5",
   "metadata": {},
   "outputs": [
    {
     "data": {
      "text/plain": [
       "5.5"
      ]
     },
     "execution_count": 3,
     "metadata": {},
     "output_type": "execute_result"
    }
   ],
   "source": [
    "# Division - Option 1\n",
    "C = 66\n",
    "D = 12\n",
    "div_res_1 = C/D\n",
    "div_res_1"
   ]
  },
  {
   "cell_type": "code",
   "execution_count": 4,
   "id": "81cdc76b",
   "metadata": {},
   "outputs": [
    {
     "data": {
      "text/plain": [
       "5"
      ]
     },
     "execution_count": 4,
     "metadata": {},
     "output_type": "execute_result"
    }
   ],
   "source": [
    "# Division - Option 2\n",
    "div_res_1 = C//D\n",
    "div_res_1"
   ]
  },
  {
   "cell_type": "markdown",
   "id": "4612cab2",
   "metadata": {},
   "source": [
    "### Question 3: Write a Python program to find the area of a triangle?"
   ]
  },
  {
   "cell_type": "markdown",
   "id": "a02d4ee2",
   "metadata": {},
   "source": [
    "!['AOT'](images/area_of_triangle.png)"
   ]
  },
  {
   "cell_type": "code",
   "execution_count": 5,
   "id": "215c789e",
   "metadata": {},
   "outputs": [
    {
     "data": {
      "text/plain": [
       "120.0"
      ]
     },
     "execution_count": 5,
     "metadata": {},
     "output_type": "execute_result"
    }
   ],
   "source": [
    "# Area\n",
    "base = 20\n",
    "height = 12\n",
    "area = (1/2) * base * height\n",
    "area"
   ]
  },
  {
   "cell_type": "code",
   "execution_count": 6,
   "id": "6e10ec69",
   "metadata": {},
   "outputs": [
    {
     "data": {
      "text/plain": [
       "21.217622392718745"
      ]
     },
     "execution_count": 6,
     "metadata": {},
     "output_type": "execute_result"
    }
   ],
   "source": [
    "# Area of an Equilateral Triangle =>\n",
    "# A = (√3)/4 × side × side\n",
    "import numpy as np\n",
    "\n",
    "side = 7\n",
    "area = (np.sqrt(3)/4) * side * side\n",
    "area"
   ]
  },
  {
   "cell_type": "markdown",
   "id": "429a604d",
   "metadata": {},
   "source": [
    "If we know the area formula of triangle then we can compute that easily"
   ]
  },
  {
   "cell_type": "markdown",
   "id": "0879987c",
   "metadata": {},
   "source": [
    "### Question 4. Write a Python program to swap two variables?"
   ]
  },
  {
   "cell_type": "code",
   "execution_count": 7,
   "id": "58c7d402",
   "metadata": {},
   "outputs": [
    {
     "name": "stdout",
     "output_type": "stream",
     "text": [
      "8\n",
      "6\n"
     ]
    }
   ],
   "source": [
    "# Swap 2 numbers\n",
    "num_1 = 6\n",
    "num_2 = 8\n",
    "num1, num2 = num_2, num_1\n",
    "print(num1)\n",
    "print(num2)"
   ]
  },
  {
   "cell_type": "markdown",
   "id": "ac8637c8",
   "metadata": {},
   "source": [
    "### Question 5. Write a Python program to generate a random number?"
   ]
  },
  {
   "cell_type": "code",
   "execution_count": 8,
   "id": "ca56c824",
   "metadata": {},
   "outputs": [
    {
     "name": "stdout",
     "output_type": "stream",
     "text": [
      "9\n",
      "91\n"
     ]
    }
   ],
   "source": [
    "import random\n",
    "\n",
    "# First random number\n",
    "rand_num = random.randint(0,50)\n",
    "print(rand_num)\n",
    "\n",
    "# Second random number\n",
    "rand_num = random.randint(50,100)\n",
    "print(rand_num)"
   ]
  }
 ],
 "metadata": {
  "kernelspec": {
   "display_name": "Python 3 (ipykernel)",
   "language": "python",
   "name": "python3"
  },
  "language_info": {
   "codemirror_mode": {
    "name": "ipython",
    "version": 3
   },
   "file_extension": ".py",
   "mimetype": "text/x-python",
   "name": "python",
   "nbconvert_exporter": "python",
   "pygments_lexer": "ipython3",
   "version": "3.9.7"
  }
 },
 "nbformat": 4,
 "nbformat_minor": 5
}
