{
 "cells": [
  {
   "cell_type": "markdown",
   "id": "f869e4a7",
   "metadata": {},
   "source": [
    "### Question 1"
   ]
  },
  {
   "cell_type": "code",
   "execution_count": 132,
   "id": "f13ae183",
   "metadata": {},
   "outputs": [],
   "source": [
    "# Function to compute number of dot's\n",
    "def pentagonal(num):\n",
    "    result = 1\n",
    "    for n in range(1,num):\n",
    "        result += 5*n\n",
    "    return result"
   ]
  },
  {
   "cell_type": "code",
   "execution_count": 133,
   "id": "5065bc3d",
   "metadata": {},
   "outputs": [
    {
     "name": "stdout",
     "output_type": "stream",
     "text": [
      "for number=1, number of dots=1\n",
      "for number=2, number of dots=6\n",
      "for number=3, number of dots=16\n",
      "for number=4, number of dots=31\n",
      "for number=5, number of dots=51\n",
      "for number=6, number of dots=76\n",
      "for number=7, number of dots=106\n",
      "for number=8, number of dots=141\n",
      "for number=9, number of dots=181\n",
      "for number=10, number of dots=226\n"
     ]
    }
   ],
   "source": [
    "for side in range(1,11):\n",
    "    print('for number={0}, number of dots={1}'.format(side,pentagonal(side)))"
   ]
  },
  {
   "cell_type": "markdown",
   "id": "d81d5d25",
   "metadata": {},
   "source": [
    "After careful observation, I observed below mentioned pattern,\n",
    "- n=1, pattern=1\n",
    "- n=2, pattern=5,1\n",
    "- n=3, pattern=10,5,1\n",
    "- n=4, pattern=15,10,5,1\n",
    "\n",
    "similarly\n",
    "\n",
    "- n=8, pattern=35,30,25,20,15,10,5,1"
   ]
  },
  {
   "cell_type": "markdown",
   "id": "bc469338",
   "metadata": {},
   "source": [
    "## Question 2"
   ]
  },
  {
   "cell_type": "code",
   "execution_count": 48,
   "id": "cb3cab81",
   "metadata": {},
   "outputs": [],
   "source": [
    "# Function to encript input\n",
    "def encrypt(word):\n",
    "    # Vowel Mapper\n",
    "    mapper = {'a': 0, 'e': 1, 'i': 2, 'o': 2, 'u': 3}\n",
    "    final_input = word[::-1]\n",
    "    print(''.join([str(mapper[char]) if char in mapper.keys() else str(char) for char in final_input]) + 'aca')"
   ]
  },
  {
   "cell_type": "code",
   "execution_count": 49,
   "id": "4ac146e6",
   "metadata": {},
   "outputs": [
    {
     "name": "stdout",
     "output_type": "stream",
     "text": [
      "1lpp0aca\n"
     ]
    }
   ],
   "source": [
    "# Test Case 1\n",
    "encrypt('apple')"
   ]
  },
  {
   "cell_type": "code",
   "execution_count": 50,
   "id": "98a4f1c1",
   "metadata": {},
   "outputs": [
    {
     "name": "stdout",
     "output_type": "stream",
     "text": [
      "0n0n0baca\n"
     ]
    }
   ],
   "source": [
    "# Test Case 2\n",
    "encrypt('banana')"
   ]
  },
  {
   "cell_type": "code",
   "execution_count": 51,
   "id": "e07a86bd",
   "metadata": {},
   "outputs": [
    {
     "name": "stdout",
     "output_type": "stream",
     "text": [
      "0c0r0kaca\n"
     ]
    }
   ],
   "source": [
    "# Test Case 3\n",
    "encrypt('karaca')"
   ]
  },
  {
   "cell_type": "code",
   "execution_count": 52,
   "id": "a10f805d",
   "metadata": {},
   "outputs": [
    {
     "name": "stdout",
     "output_type": "stream",
     "text": [
      "k0r3baca\n"
     ]
    }
   ],
   "source": [
    "# Test Case 4\n",
    "encrypt('burak')"
   ]
  },
  {
   "cell_type": "code",
   "execution_count": 25,
   "id": "42c3bc5b",
   "metadata": {},
   "outputs": [
    {
     "name": "stdout",
     "output_type": "stream",
     "text": [
      "0c0pl0aca\n"
     ]
    }
   ],
   "source": [
    "# Test Case 5\n",
    "encrypt('alpaca')"
   ]
  },
  {
   "cell_type": "markdown",
   "id": "bab57fb2",
   "metadata": {},
   "source": [
    "## Question 3"
   ]
  },
  {
   "cell_type": "code",
   "execution_count": 100,
   "id": "7e630a6e",
   "metadata": {},
   "outputs": [],
   "source": [
    "# Importing requried package\n",
    "import datetime\n",
    "def has_friday_13(month, year):\n",
    "    date = '13 ' + str(month) + ' ' + str(year)\n",
    "    day_name= ['Monday', 'Tuesday', 'Wednesday', 'Thursday', 'Friday', 'Saturday','Sunday']\n",
    "    day = datetime.datetime.strptime(date, '%d %m %Y').weekday()\n",
    "    print(True if day_name[day] == 'Friday' else False) "
   ]
  },
  {
   "cell_type": "code",
   "execution_count": 102,
   "id": "33daf55e",
   "metadata": {},
   "outputs": [
    {
     "name": "stdout",
     "output_type": "stream",
     "text": [
      "True\n"
     ]
    }
   ],
   "source": [
    "# Test case 1\n",
    "has_friday_13(3,2020)"
   ]
  },
  {
   "cell_type": "code",
   "execution_count": 103,
   "id": "8ca9f5db",
   "metadata": {},
   "outputs": [
    {
     "name": "stdout",
     "output_type": "stream",
     "text": [
      "True\n"
     ]
    }
   ],
   "source": [
    "# Test case 2\n",
    "has_friday_13(10,2017)"
   ]
  },
  {
   "cell_type": "code",
   "execution_count": 104,
   "id": "f3cb3768",
   "metadata": {},
   "outputs": [
    {
     "name": "stdout",
     "output_type": "stream",
     "text": [
      "False\n"
     ]
    }
   ],
   "source": [
    "# Test case 3\n",
    "has_friday_13(1,1985)"
   ]
  },
  {
   "cell_type": "code",
   "execution_count": 105,
   "id": "04db9444",
   "metadata": {},
   "outputs": [
    {
     "name": "stdout",
     "output_type": "stream",
     "text": [
      "False\n"
     ]
    }
   ],
   "source": [
    "# Test case 4\n",
    "has_friday_13(5,1909)"
   ]
  },
  {
   "cell_type": "markdown",
   "id": "2aa59cbe",
   "metadata": {},
   "source": [
    "## Question 4"
   ]
  },
  {
   "cell_type": "code",
   "execution_count": 15,
   "id": "8ffc1563",
   "metadata": {},
   "outputs": [],
   "source": [
    "# Importing required package\n",
    "import re"
   ]
  },
  {
   "cell_type": "code",
   "execution_count": 40,
   "id": "12f606c6",
   "metadata": {},
   "outputs": [],
   "source": [
    "def get_count(items):\n",
    "    print(len(re.findall(r'(\\bbad)\\s(\\bcookie)(\\s)',' '.join(items).lower())))"
   ]
  },
  {
   "cell_type": "code",
   "execution_count": 41,
   "id": "71477824",
   "metadata": {},
   "outputs": [
    {
     "name": "stdout",
     "output_type": "stream",
     "text": [
      "2\n"
     ]
    }
   ],
   "source": [
    "# Test Case 1\n",
    "test_inp_1 = ['bad cookie','good cookie','bad cookie','good cookie','good cookie']\n",
    "get_count(test_inp_1)"
   ]
  },
  {
   "cell_type": "code",
   "execution_count": 42,
   "id": "51a9de37",
   "metadata": {},
   "outputs": [
    {
     "name": "stdout",
     "output_type": "stream",
     "text": [
      "1\n"
     ]
    }
   ],
   "source": [
    "# Test Case 2\n",
    "test_inp_2 = ['bad cookies','good cookie','bad cookie','good cookie','good cookie']\n",
    "get_count(test_inp_2)"
   ]
  },
  {
   "cell_type": "code",
   "execution_count": 53,
   "id": "fee2bac7",
   "metadata": {},
   "outputs": [
    {
     "name": "stdout",
     "output_type": "stream",
     "text": [
      "1\n"
     ]
    }
   ],
   "source": [
    "# Test Case 3\n",
    "test_inp_3 = ['bad cookie','good cookie','badcookie','goodcookie','good cookie']\n",
    "get_count(test_inp_3)"
   ]
  },
  {
   "cell_type": "code",
   "execution_count": 54,
   "id": "d070d5a0",
   "metadata": {},
   "outputs": [
    {
     "name": "stdout",
     "output_type": "stream",
     "text": [
      "2\n"
     ]
    }
   ],
   "source": [
    "# Test Case 4\n",
    "test_inp_4 = ['Bad cookie','good cookie','bad cookiE','good cookie','good cookie']\n",
    "get_count(test_inp_4)"
   ]
  },
  {
   "cell_type": "code",
   "execution_count": 47,
   "id": "9dc9251c",
   "metadata": {},
   "outputs": [
    {
     "name": "stdout",
     "output_type": "stream",
     "text": [
      "1\n"
     ]
    }
   ],
   "source": [
    "# Test Case 5\n",
    "test_inp_5 = ['BAD COOKIE','good cookie','BAD COKIE','good cookie','good cookie']\n",
    "get_count(test_inp_5)"
   ]
  },
  {
   "cell_type": "markdown",
   "id": "a51e931f",
   "metadata": {},
   "source": [
    "## Question 5"
   ]
  },
  {
   "cell_type": "code",
   "execution_count": 9,
   "id": "daa2cf28",
   "metadata": {},
   "outputs": [],
   "source": [
    "# Pluralize list of items\n",
    "def pluralize(items):\n",
    "    return set([('s' + item[::-1])[::-1] for item in items])"
   ]
  },
  {
   "cell_type": "code",
   "execution_count": 11,
   "id": "c35efe60",
   "metadata": {},
   "outputs": [
    {
     "data": {
      "text/plain": [
       "{'cows', 'pigs'}"
      ]
     },
     "execution_count": 11,
     "metadata": {},
     "output_type": "execute_result"
    }
   ],
   "source": [
    "# Test case 1\n",
    "test_input_1 = ['cow','pig','cow','cow']\n",
    "pluralize(test_input_1)"
   ]
  },
  {
   "cell_type": "code",
   "execution_count": 12,
   "id": "817c206c",
   "metadata": {},
   "outputs": [
    {
     "data": {
      "text/plain": [
       "{'tables'}"
      ]
     },
     "execution_count": 12,
     "metadata": {},
     "output_type": "execute_result"
    }
   ],
   "source": [
    "# Test case 2\n",
    "test_input_2 = ['table','table','table']\n",
    "pluralize(test_input_2)"
   ]
  },
  {
   "cell_type": "code",
   "execution_count": 14,
   "id": "91bd6e5f",
   "metadata": {},
   "outputs": [
    {
     "data": {
      "text/plain": [
       "{'arms', 'chairs', 'pencils'}"
      ]
     },
     "execution_count": 14,
     "metadata": {},
     "output_type": "execute_result"
    }
   ],
   "source": [
    "# Test case 3\n",
    "test_input_3 = ['chair','pencil','arm']\n",
    "pluralize(test_input_3)"
   ]
  }
 ],
 "metadata": {
  "kernelspec": {
   "display_name": "Python 3 (ipykernel)",
   "language": "python",
   "name": "python3"
  },
  "language_info": {
   "codemirror_mode": {
    "name": "ipython",
    "version": 3
   },
   "file_extension": ".py",
   "mimetype": "text/x-python",
   "name": "python",
   "nbconvert_exporter": "python",
   "pygments_lexer": "ipython3",
   "version": "3.9.7"
  }
 },
 "nbformat": 4,
 "nbformat_minor": 5
}
