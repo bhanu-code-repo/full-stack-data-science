{
 "cells": [
  {
   "cell_type": "code",
   "execution_count": 1,
   "id": "e08c9027",
   "metadata": {},
   "outputs": [
    {
     "data": {
      "text/html": [
       "<style>.container{width:100% !important;}</style>"
      ],
      "text/plain": [
       "<IPython.core.display.HTML object>"
      ]
     },
     "metadata": {},
     "output_type": "display_data"
    }
   ],
   "source": [
    "# Importing display related package to extend cell size\n",
    "from IPython.core.display import display, HTML\n",
    "display(HTML('<style>.container{width:100% !important;}</style>'))"
   ]
  },
  {
   "cell_type": "markdown",
   "id": "844b46f2",
   "metadata": {},
   "source": [
    "## Question 1"
   ]
  },
  {
   "cell_type": "code",
   "execution_count": 2,
   "id": "666f5974",
   "metadata": {},
   "outputs": [],
   "source": [
    "# Function to check if number is even or odd\n",
    "def check_even_odd(num):\n",
    "    if num > 0:\n",
    "        print(8 if int(str(num/2).split('.')[1]) == 0 else 2)\n",
    "    else:\n",
    "        print('enter number greater than 0.')"
   ]
  },
  {
   "cell_type": "code",
   "execution_count": 3,
   "id": "da8cff20",
   "metadata": {},
   "outputs": [
    {
     "name": "stdout",
     "output_type": "stream",
     "text": [
      "enter number greater than 0.\n"
     ]
    }
   ],
   "source": [
    "# Test case 1\n",
    "check_even_odd(0)"
   ]
  },
  {
   "cell_type": "code",
   "execution_count": 4,
   "id": "a6b658e3",
   "metadata": {},
   "outputs": [
    {
     "name": "stdout",
     "output_type": "stream",
     "text": [
      "2\n"
     ]
    }
   ],
   "source": [
    "# Test case 2\n",
    "check_even_odd(5)"
   ]
  },
  {
   "cell_type": "code",
   "execution_count": 5,
   "id": "f451fc85",
   "metadata": {},
   "outputs": [
    {
     "name": "stdout",
     "output_type": "stream",
     "text": [
      "8\n"
     ]
    }
   ],
   "source": [
    "# Test case 3\n",
    "check_even_odd(18)"
   ]
  },
  {
   "cell_type": "markdown",
   "id": "1d831960",
   "metadata": {},
   "source": [
    "## Question 2"
   ]
  },
  {
   "cell_type": "code",
   "execution_count": 6,
   "id": "f5dfa838",
   "metadata": {},
   "outputs": [],
   "source": [
    "# Function to compute winner vote in list of votes\n",
    "def majority_vote(votes):\n",
    "    votes_dict = {key:votes.count(key) for key in {k:0 for k,v in zip(votes,range(len(votes)))}.keys()}\n",
    "    winner_vote = [winner for (winner, count) in zip(votes_dict.keys(),votes_dict.values()) if count > sum(votes_dict.values())/2]\n",
    "    return ''.join(winner_vote) if winner_vote != [] else 'None'"
   ]
  },
  {
   "cell_type": "code",
   "execution_count": 7,
   "id": "3348f104",
   "metadata": {},
   "outputs": [
    {
     "data": {
      "text/plain": [
       "'A'"
      ]
     },
     "execution_count": 7,
     "metadata": {},
     "output_type": "execute_result"
    }
   ],
   "source": [
    "# Test case 1\n",
    "votes = ['A','A','B']\n",
    "majority_vote(votes)"
   ]
  },
  {
   "cell_type": "code",
   "execution_count": 8,
   "id": "0e9b5f51",
   "metadata": {},
   "outputs": [
    {
     "data": {
      "text/plain": [
       "'A'"
      ]
     },
     "execution_count": 8,
     "metadata": {},
     "output_type": "execute_result"
    }
   ],
   "source": [
    "# Test case 2\n",
    "votes = ['A','A','A','B','C','A']\n",
    "majority_vote(votes)"
   ]
  },
  {
   "cell_type": "code",
   "execution_count": 9,
   "id": "f6f163fa",
   "metadata": {},
   "outputs": [
    {
     "data": {
      "text/plain": [
       "'None'"
      ]
     },
     "execution_count": 9,
     "metadata": {},
     "output_type": "execute_result"
    }
   ],
   "source": [
    "# Test case 3\n",
    "votes = ['A','B','A','B','C','C']\n",
    "majority_vote(votes)"
   ]
  },
  {
   "cell_type": "markdown",
   "id": "330b421d",
   "metadata": {},
   "source": [
    "## Question 3"
   ]
  },
  {
   "cell_type": "code",
   "execution_count": 10,
   "id": "4ad2f2bd",
   "metadata": {},
   "outputs": [],
   "source": [
    "# Importing required package\n",
    "import re"
   ]
  },
  {
   "cell_type": "code",
   "execution_count": 11,
   "id": "cbc8060b",
   "metadata": {},
   "outputs": [],
   "source": [
    "# Function to censor strings with selected words\n",
    "def censor_string(content, words, character, exact_match=False):\n",
    "    # removing all special characters from input string\n",
    "    content = ''.join([char for char in content[:-1] if char not in re.findall('[|^&+\\-%*/=!>?$@]', content[:-1])]) + ' ' + content[-1]\n",
    "    final_string = ''\n",
    "    if exact_match:\n",
    "        final_string = ' '.join([character*len(word) if word in words else word for word in content.split(' ')])\n",
    "    else:\n",
    "        final_string = ' '.join([character*len(word) if word in list(map(lambda x: x.lower(), words)) else word for word in list(map(lambda x: x.lower(), content.split(' ')))])\n",
    "    return final_string[:-2] + final_string[-1]"
   ]
  },
  {
   "cell_type": "code",
   "execution_count": 12,
   "id": "279908f2",
   "metadata": {},
   "outputs": [
    {
     "data": {
      "text/plain": [
       "'----- is - Wednesday!'"
      ]
     },
     "execution_count": 12,
     "metadata": {},
     "output_type": "execute_result"
    }
   ],
   "source": [
    "# Test case 1\n",
    "censor_string(content='Today is a Wednesday!', words=['Today','a'], character='-', exact_match=True)"
   ]
  },
  {
   "cell_type": "code",
   "execution_count": 13,
   "id": "0fba4e42",
   "metadata": {},
   "outputs": [
    {
     "data": {
      "text/plain": [
       "'The *** jumped **** the moon.'"
      ]
     },
     "execution_count": 13,
     "metadata": {},
     "output_type": "execute_result"
    }
   ],
   "source": [
    "# Test case 2\n",
    "censor_string(content='The cow jumped over the moon.', words=['cow','over'], character='*', exact_match=True)"
   ]
  },
  {
   "cell_type": "code",
   "execution_count": 14,
   "id": "83a6cf53",
   "metadata": {},
   "outputs": [
    {
     "data": {
      "text/plain": [
       "'Why *** the ******* cross the ****?'"
      ]
     },
     "execution_count": 14,
     "metadata": {},
     "output_type": "execute_result"
    }
   ],
   "source": [
    "# Test case 3\n",
    "censor_string(content='Why did the chicken cross the road?', words=['did','chicken','road'], character='*', exact_match=True)"
   ]
  },
  {
   "cell_type": "code",
   "execution_count": 15,
   "id": "9893522b",
   "metadata": {},
   "outputs": [
    {
     "data": {
      "text/plain": [
       "'*** did the chicken ***** the ****?'"
      ]
     },
     "execution_count": 15,
     "metadata": {},
     "output_type": "execute_result"
    }
   ],
   "source": [
    "# Test case 4\n",
    "censor_string(content='Why did the chicken cro?ss the road?', words=['Why','cross','road'], character='*', exact_match=True)"
   ]
  },
  {
   "cell_type": "markdown",
   "id": "900c75df",
   "metadata": {},
   "source": [
    "## Question 4"
   ]
  },
  {
   "cell_type": "code",
   "execution_count": 16,
   "id": "921864d6",
   "metadata": {},
   "outputs": [],
   "source": [
    "# Check if number is poly divisible\n",
    "def is_polydivisible(num):\n",
    "    num = str(num)\n",
    "    if num.isdigit():\n",
    "        print(True if sum([1 if str(int(str(num[0:index]))/index).split('.')[1] == '0' else 0 for index in range(1,len(num)+1)]) == len(num) else False)\n",
    "    else:\n",
    "        print('enter correct number')"
   ]
  },
  {
   "cell_type": "code",
   "execution_count": 17,
   "id": "72329ae7",
   "metadata": {},
   "outputs": [
    {
     "name": "stdout",
     "output_type": "stream",
     "text": [
      "True\n"
     ]
    }
   ],
   "source": [
    "# Test case 1\n",
    "is_polydivisible('1232')"
   ]
  },
  {
   "cell_type": "code",
   "execution_count": 18,
   "id": "63f4556f",
   "metadata": {},
   "outputs": [
    {
     "name": "stdout",
     "output_type": "stream",
     "text": [
      "False\n"
     ]
    }
   ],
   "source": [
    "# Test case 2\n",
    "is_polydivisible('123220')"
   ]
  },
  {
   "cell_type": "markdown",
   "id": "054f8706",
   "metadata": {},
   "source": [
    "## Question 5"
   ]
  },
  {
   "cell_type": "code",
   "execution_count": 19,
   "id": "ad24384a",
   "metadata": {},
   "outputs": [],
   "source": [
    "# Function to check if number is prime or not\n",
    "def is_prime(num):\n",
    "    if num > 1:\n",
    "        for n in range(2,num):\n",
    "            if num%n == 0:\n",
    "                return False\n",
    "        return True\n",
    "    else:\n",
    "        return False"
   ]
  },
  {
   "cell_type": "code",
   "execution_count": 20,
   "id": "5f8ccb3f",
   "metadata": {},
   "outputs": [],
   "source": [
    "# Function to sum all prime numbers of a list\n",
    "def sum_primes(numbers):\n",
    "    print(sum(list(map(lambda x: x if is_prime(x) else 0, numbers))) if sum(list(map(lambda x: x if is_prime(x) else 0, numbers))) > 0 else 'None')"
   ]
  },
  {
   "cell_type": "code",
   "execution_count": 21,
   "id": "4ea9477d",
   "metadata": {},
   "outputs": [
    {
     "name": "stdout",
     "output_type": "stream",
     "text": [
      "17\n"
     ]
    }
   ],
   "source": [
    "# Test case 1\n",
    "sum_primes([1, 2, 3, 4, 5, 6, 7, 8, 9, 10])"
   ]
  },
  {
   "cell_type": "code",
   "execution_count": 22,
   "id": "799835a4",
   "metadata": {},
   "outputs": [
    {
     "name": "stdout",
     "output_type": "stream",
     "text": [
      "87\n"
     ]
    }
   ],
   "source": [
    "# Test case 2\n",
    "sum_primes([2, 3, 4, 11, 20, 50, 71])"
   ]
  },
  {
   "cell_type": "code",
   "execution_count": 23,
   "id": "b0b50e33",
   "metadata": {},
   "outputs": [
    {
     "name": "stdout",
     "output_type": "stream",
     "text": [
      "None\n"
     ]
    }
   ],
   "source": [
    "# Test case 3\n",
    "sum_primes([])"
   ]
  }
 ],
 "metadata": {
  "kernelspec": {
   "display_name": "Python 3 (ipykernel)",
   "language": "python",
   "name": "python3"
  },
  "language_info": {
   "codemirror_mode": {
    "name": "ipython",
    "version": 3
   },
   "file_extension": ".py",
   "mimetype": "text/x-python",
   "name": "python",
   "nbconvert_exporter": "python",
   "pygments_lexer": "ipython3",
   "version": "3.9.7"
  }
 },
 "nbformat": 4,
 "nbformat_minor": 5
}
