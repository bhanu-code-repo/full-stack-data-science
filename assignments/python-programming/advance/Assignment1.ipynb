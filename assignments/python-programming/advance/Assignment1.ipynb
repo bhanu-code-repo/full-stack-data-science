{
 "cells": [
  {
   "cell_type": "markdown",
   "id": "d271bffc",
   "metadata": {},
   "source": [
    "### Question 1"
   ]
  },
  {
   "cell_type": "code",
   "execution_count": 1,
   "id": "86130dee",
   "metadata": {},
   "outputs": [],
   "source": [
    "# Define symbol value mapper\n",
    "symbols = {'#': 5, 'O': 3, 'X': 1, '!': -1, '!!': -3, '!!!': -5}"
   ]
  },
  {
   "cell_type": "code",
   "execution_count": 2,
   "id": "7f8cc020",
   "metadata": {},
   "outputs": [],
   "source": [
    "# Function to get sum of symbols\n",
    "def get_sum(listoflists):\n",
    "    flat_list = [item for sublist in listoflists for item in sublist]\n",
    "    total = 0\n",
    "    for symbol in flat_list:\n",
    "        total += symbols[symbol]\n",
    "    if total < 0:\n",
    "        total = 0\n",
    "    print(total)"
   ]
  },
  {
   "cell_type": "code",
   "execution_count": 3,
   "id": "50e90702",
   "metadata": {},
   "outputs": [
    {
     "name": "stdout",
     "output_type": "stream",
     "text": [
      "2\n"
     ]
    }
   ],
   "source": [
    "# Test Case 1\n",
    "test_input_1 = [['#','!'],['!!','X']]\n",
    "get_sum(test_input_1)"
   ]
  },
  {
   "cell_type": "code",
   "execution_count": 4,
   "id": "667a7541",
   "metadata": {},
   "outputs": [
    {
     "name": "stdout",
     "output_type": "stream",
     "text": [
      "11\n"
     ]
    }
   ],
   "source": [
    "# Test Case 2\n",
    "test_input_2 = [[\"!!!\", \"O\", \"!\"],[\"X\", \"#\", \"!!!\"],[\"#\", \"#\", \"O\"]]\n",
    "get_sum(test_input_2)"
   ]
  },
  {
   "cell_type": "code",
   "execution_count": 5,
   "id": "052989e7",
   "metadata": {},
   "outputs": [
    {
     "name": "stdout",
     "output_type": "stream",
     "text": [
      "0\n"
     ]
    }
   ],
   "source": [
    "# Test Case 3\n",
    "test_input_3 = [[\"!!!\", \"!!!\", \"!!!\"],[\"!!!\", \"!!!\", \"!!!\"]]\n",
    "get_sum(test_input_3)"
   ]
  },
  {
   "cell_type": "markdown",
   "id": "60bb1dd3",
   "metadata": {},
   "source": [
    "### Question 2"
   ]
  },
  {
   "cell_type": "code",
   "execution_count": 6,
   "id": "8b5a22af",
   "metadata": {},
   "outputs": [],
   "source": [
    "# Get combination\n",
    "def combinations(*params):\n",
    "    result = 1\n",
    "    if len(params) > 1:\n",
    "        for param in params:\n",
    "            result = param * result\n",
    "    return result"
   ]
  },
  {
   "cell_type": "code",
   "execution_count": 7,
   "id": "a9335db7",
   "metadata": {},
   "outputs": [
    {
     "data": {
      "text/plain": [
       "6"
      ]
     },
     "execution_count": 7,
     "metadata": {},
     "output_type": "execute_result"
    }
   ],
   "source": [
    "# Test Case 1\n",
    "combinations(2,3)"
   ]
  },
  {
   "cell_type": "code",
   "execution_count": 8,
   "id": "c9ca8260",
   "metadata": {},
   "outputs": [
    {
     "data": {
      "text/plain": [
       "84"
      ]
     },
     "execution_count": 8,
     "metadata": {},
     "output_type": "execute_result"
    }
   ],
   "source": [
    "# Test Case 2\n",
    "combinations(3,7,4)"
   ]
  },
  {
   "cell_type": "code",
   "execution_count": 9,
   "id": "84b75648",
   "metadata": {},
   "outputs": [
    {
     "data": {
      "text/plain": [
       "120"
      ]
     },
     "execution_count": 9,
     "metadata": {},
     "output_type": "execute_result"
    }
   ],
   "source": [
    "# Test Case 3\n",
    "combinations(2,3,4,5)"
   ]
  },
  {
   "cell_type": "code",
   "execution_count": 10,
   "id": "60be8092",
   "metadata": {},
   "outputs": [
    {
     "data": {
      "text/plain": [
       "70"
      ]
     },
     "execution_count": 10,
     "metadata": {},
     "output_type": "execute_result"
    }
   ],
   "source": [
    "# Test Case 4\n",
    "combinations(5,2,7)"
   ]
  },
  {
   "cell_type": "markdown",
   "id": "4e4aecb6",
   "metadata": {},
   "source": [
    "### Question 3"
   ]
  },
  {
   "cell_type": "code",
   "execution_count": 11,
   "id": "82263c7b",
   "metadata": {},
   "outputs": [],
   "source": [
    "# Mapper dictionary\n",
    "char_to_dots = {\n",
    "  'A': '.-', 'B': '-...', 'C': '-.-.', 'D': '-..', 'E': '.', 'F': '..-.',\n",
    "  'G': '--.', 'H': '....', 'I': '..', 'J': '.---', 'K': '-.-', 'L': '.-..',\n",
    "  'M': '--', 'N': '-.', 'O': '---', 'P': '.--.', 'Q': '--.-', 'R': '.-.',\n",
    "  'S': '...', 'T': '-', 'U': '..-', 'V': '...-', 'W': '.--', 'X': '-..-',\n",
    "  'Y': '-.--', 'Z': '--..', ' ': ' ', '0': '-----',\n",
    "  '1': '.----', '2': '..---', '3': '...--', '4': '....-', '5': '.....',\n",
    "  '6': '-....', '7': '--...', '8': '---..', '9': '----.',\n",
    "  '&': '.-...', \"'\": '.----.', '@': '.--.-.', ')': '-.--.-', '(': '-.--.',\n",
    "  ':': '---...', ',': '--..--', '=': '-...-', '!': '-.-.--', '.': '.-.-.-',\n",
    "  '-': '-....-', '+': '.-.-.', '\"': '.-..-.', '?': '..--..', '/': '-..-.'\n",
    "}"
   ]
  },
  {
   "cell_type": "code",
   "execution_count": 12,
   "id": "a7dbc636",
   "metadata": {},
   "outputs": [],
   "source": [
    "# Function to encode the code\n",
    "def encode_morse(code):\n",
    "    final_code = code.upper()\n",
    "    morse_code = ''\n",
    "    for char in final_code:\n",
    "        morse_code += char_to_dots[char]\n",
    "    print(morse_code)"
   ]
  },
  {
   "cell_type": "code",
   "execution_count": 13,
   "id": "f81d70e4",
   "metadata": {},
   "outputs": [
    {
     "name": "stdout",
     "output_type": "stream",
     "text": [
      ".-...--...-.....- -.-......-.-...-...-.--..\n"
     ]
    }
   ],
   "source": [
    "# Test Case 1\n",
    "encode_morse(\"EDABBIT CHALLENGE\") "
   ]
  },
  {
   "cell_type": "code",
   "execution_count": 14,
   "id": "3b14086b",
   "metadata": {},
   "outputs": [
    {
     "name": "stdout",
     "output_type": "stream",
     "text": [
      "......-...--. --. -.-.--\n"
     ]
    }
   ],
   "source": [
    "# Test Case 2\n",
    "encode_morse(\"HELP ME !\") "
   ]
  },
  {
   "cell_type": "code",
   "execution_count": 15,
   "id": "390ac287",
   "metadata": {},
   "outputs": [
    {
     "name": "stdout",
     "output_type": "stream",
     "text": [
      "-........--...- -.....--.-..-.-.\n"
     ]
    }
   ],
   "source": [
    "# Test Case 3\n",
    "encode_morse('Bhanu Thakur')"
   ]
  },
  {
   "cell_type": "markdown",
   "id": "1b5469b9",
   "metadata": {},
   "source": [
    "### Question 4"
   ]
  },
  {
   "cell_type": "code",
   "execution_count": 16,
   "id": "4a3871be",
   "metadata": {},
   "outputs": [],
   "source": [
    "# Function to check if number is prime or not\n",
    "def is_prime(num):\n",
    "    if num > 1:\n",
    "        for n in range(2,num):\n",
    "            if num%n == 0:\n",
    "                return False\n",
    "        return True\n",
    "    else:\n",
    "        return False"
   ]
  },
  {
   "cell_type": "code",
   "execution_count": 17,
   "id": "827dc0bf",
   "metadata": {},
   "outputs": [
    {
     "data": {
      "text/plain": [
       "True"
      ]
     },
     "execution_count": 17,
     "metadata": {},
     "output_type": "execute_result"
    }
   ],
   "source": [
    "# Check if prime\n",
    "is_prime(7)"
   ]
  },
  {
   "cell_type": "code",
   "execution_count": 18,
   "id": "6e8a60d3",
   "metadata": {},
   "outputs": [
    {
     "data": {
      "text/plain": [
       "True"
      ]
     },
     "execution_count": 18,
     "metadata": {},
     "output_type": "execute_result"
    }
   ],
   "source": [
    "# Check if prime\n",
    "is_prime(56963)"
   ]
  },
  {
   "cell_type": "code",
   "execution_count": 19,
   "id": "ef3bd46f",
   "metadata": {},
   "outputs": [
    {
     "data": {
      "text/plain": [
       "False"
      ]
     },
     "execution_count": 19,
     "metadata": {},
     "output_type": "execute_result"
    }
   ],
   "source": [
    "# Check if prime\n",
    "is_prime(5151512515524)"
   ]
  },
  {
   "cell_type": "markdown",
   "id": "a28cf639",
   "metadata": {},
   "source": [
    "### Question 5"
   ]
  },
  {
   "cell_type": "code",
   "execution_count": 20,
   "id": "39a55d67",
   "metadata": {},
   "outputs": [
    {
     "data": {
      "text/plain": [
       "{'a': 1,\n",
       " 'b': 2,\n",
       " 'c': 3,\n",
       " 'd': 4,\n",
       " 'e': 5,\n",
       " 'f': 6,\n",
       " 'g': 7,\n",
       " 'h': 8,\n",
       " 'i': 9,\n",
       " 'j': 10,\n",
       " 'k': 11,\n",
       " 'l': 12,\n",
       " 'm': 13,\n",
       " 'n': 14,\n",
       " 'o': 15,\n",
       " 'p': 16,\n",
       " 'q': 17,\n",
       " 'r': 18,\n",
       " 's': 19,\n",
       " 't': 20,\n",
       " 'u': 21,\n",
       " 'v': 22,\n",
       " 'w': 23,\n",
       " 'x': 24,\n",
       " 'y': 25,\n",
       " 'z': 26}"
      ]
     },
     "execution_count": 20,
     "metadata": {},
     "output_type": "execute_result"
    }
   ],
   "source": [
    "alpha_map = {k:v for (k,v) in zip([chr(i) for i in range(ord('a'), ord('z')+1)], [val+1 for val in range(0,26)])}\n",
    "alpha_map"
   ]
  },
  {
   "cell_type": "code",
   "execution_count": 21,
   "id": "8ffcdd4a",
   "metadata": {},
   "outputs": [
    {
     "data": {
      "text/plain": [
       "True"
      ]
     },
     "execution_count": 21,
     "metadata": {},
     "output_type": "execute_result"
    }
   ],
   "source": [
    "# Function to map even/odd to 0/1\n",
    "check_num = lambda num: True if num%2 == 0 else False\n",
    "check_num(alpha_map['d'])"
   ]
  },
  {
   "cell_type": "code",
   "execution_count": 22,
   "id": "f29bf606",
   "metadata": {},
   "outputs": [
    {
     "data": {
      "text/plain": [
       "0"
      ]
     },
     "execution_count": 22,
     "metadata": {},
     "output_type": "execute_result"
    }
   ],
   "source": [
    "map_char = lambda char: 0 if check_num(alpha_map[char]) else 1\n",
    "map_char('d')"
   ]
  },
  {
   "cell_type": "code",
   "execution_count": 23,
   "id": "bb7d58ce",
   "metadata": {},
   "outputs": [],
   "source": [
    "# Function to convert word to list\n",
    "def to_boolean_list(word):\n",
    "    alpha_map = {k:v for (k,v) in zip([chr(i) for i in range(ord('a'), ord('z')+1)], [val+1 for val in range(0,26)])}\n",
    "    check_num = lambda num: True if num%2 == 0 else False\n",
    "    map_chars = lambda char: 0 if check_num(alpha_map[char]) else 1\n",
    "    return [True if map_chars(char) else False for char in word]"
   ]
  },
  {
   "cell_type": "code",
   "execution_count": 24,
   "id": "46a2857c",
   "metadata": {},
   "outputs": [
    {
     "data": {
      "text/plain": [
       "[False, True, False, True, True]"
      ]
     },
     "execution_count": 24,
     "metadata": {},
     "output_type": "execute_result"
    }
   ],
   "source": [
    "to_boolean_list('loves')"
   ]
  },
  {
   "cell_type": "code",
   "execution_count": 25,
   "id": "ec420dc1",
   "metadata": {},
   "outputs": [
    {
     "data": {
      "text/plain": [
       "[False, True, True, False]"
      ]
     },
     "execution_count": 25,
     "metadata": {},
     "output_type": "execute_result"
    }
   ],
   "source": [
    "to_boolean_list('deep')"
   ]
  },
  {
   "cell_type": "code",
   "execution_count": 26,
   "id": "391b6ed0",
   "metadata": {},
   "outputs": [
    {
     "data": {
      "text/plain": [
       "[False, True, True, False]"
      ]
     },
     "execution_count": 26,
     "metadata": {},
     "output_type": "execute_result"
    }
   ],
   "source": [
    "to_boolean_list('tesh')"
   ]
  }
 ],
 "metadata": {
  "kernelspec": {
   "display_name": "Python 3 (ipykernel)",
   "language": "python",
   "name": "python3"
  },
  "language_info": {
   "codemirror_mode": {
    "name": "ipython",
    "version": 3
   },
   "file_extension": ".py",
   "mimetype": "text/x-python",
   "name": "python",
   "nbconvert_exporter": "python",
   "pygments_lexer": "ipython3",
   "version": "3.9.7"
  }
 },
 "nbformat": 4,
 "nbformat_minor": 5
}
