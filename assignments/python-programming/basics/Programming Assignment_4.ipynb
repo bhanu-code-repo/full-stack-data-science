{
 "cells": [
  {
   "cell_type": "markdown",
   "id": "46085b24",
   "metadata": {},
   "source": [
    "## Question 1: Write a Python Program to Find the Factorial of a Number?"
   ]
  },
  {
   "cell_type": "code",
   "execution_count": 24,
   "id": "59fdf580",
   "metadata": {},
   "outputs": [],
   "source": [
    "# Find factorial of number\n",
    "def factorial(n):\n",
    "    res = 1\n",
    "    for index in range(1,n+1):\n",
    "        if n > 0:\n",
    "            res *= index\n",
    "    print(res)"
   ]
  },
  {
   "cell_type": "code",
   "execution_count": 28,
   "id": "b0189de3",
   "metadata": {},
   "outputs": [
    {
     "name": "stdout",
     "output_type": "stream",
     "text": [
      "6\n"
     ]
    }
   ],
   "source": [
    "# Test case 1\n",
    "factorial(3)"
   ]
  },
  {
   "cell_type": "code",
   "execution_count": 29,
   "id": "38f17f40",
   "metadata": {},
   "outputs": [
    {
     "name": "stdout",
     "output_type": "stream",
     "text": [
      "362880\n"
     ]
    }
   ],
   "source": [
    "# Test case 2\n",
    "factorial(9)"
   ]
  },
  {
   "cell_type": "code",
   "execution_count": 30,
   "id": "9bf980ad",
   "metadata": {},
   "outputs": [
    {
     "name": "stdout",
     "output_type": "stream",
     "text": [
      "24\n"
     ]
    }
   ],
   "source": [
    "# Test case 3\n",
    "factorial(4)"
   ]
  },
  {
   "cell_type": "markdown",
   "id": "fb65d8c8",
   "metadata": {},
   "source": [
    "## Question 2: Write a Python Program to Display the multiplication Table?"
   ]
  },
  {
   "cell_type": "code",
   "execution_count": 40,
   "id": "ef932ef4",
   "metadata": {},
   "outputs": [],
   "source": [
    "# Display multiplication table\n",
    "def get_table(n):\n",
    "    print('Displaying table of {0}:'.format(n))\n",
    "    for index in range(1,11):\n",
    "        print('{0} x {1} = {2}'.format(n, index, n*index))"
   ]
  },
  {
   "cell_type": "code",
   "execution_count": 41,
   "id": "cdae7149",
   "metadata": {},
   "outputs": [
    {
     "name": "stdout",
     "output_type": "stream",
     "text": [
      "Displaying table of 2:\n",
      "2 x 1 = 2\n",
      "2 x 2 = 4\n",
      "2 x 3 = 6\n",
      "2 x 4 = 8\n",
      "2 x 5 = 10\n",
      "2 x 6 = 12\n",
      "2 x 7 = 14\n",
      "2 x 8 = 16\n",
      "2 x 9 = 18\n",
      "2 x 10 = 20\n"
     ]
    }
   ],
   "source": [
    "# Test case 1\n",
    "get_table(2)"
   ]
  },
  {
   "cell_type": "code",
   "execution_count": 42,
   "id": "16ee27af",
   "metadata": {},
   "outputs": [
    {
     "name": "stdout",
     "output_type": "stream",
     "text": [
      "Displaying table of 5:\n",
      "5 x 1 = 5\n",
      "5 x 2 = 10\n",
      "5 x 3 = 15\n",
      "5 x 4 = 20\n",
      "5 x 5 = 25\n",
      "5 x 6 = 30\n",
      "5 x 7 = 35\n",
      "5 x 8 = 40\n",
      "5 x 9 = 45\n",
      "5 x 10 = 50\n"
     ]
    }
   ],
   "source": [
    "# Test case 2\n",
    "get_table(5)"
   ]
  },
  {
   "cell_type": "code",
   "execution_count": 43,
   "id": "3e982a8f",
   "metadata": {},
   "outputs": [
    {
     "name": "stdout",
     "output_type": "stream",
     "text": [
      "Displaying table of 11:\n",
      "11 x 1 = 11\n",
      "11 x 2 = 22\n",
      "11 x 3 = 33\n",
      "11 x 4 = 44\n",
      "11 x 5 = 55\n",
      "11 x 6 = 66\n",
      "11 x 7 = 77\n",
      "11 x 8 = 88\n",
      "11 x 9 = 99\n",
      "11 x 10 = 110\n"
     ]
    }
   ],
   "source": [
    "# Test case 3\n",
    "get_table(11)"
   ]
  },
  {
   "cell_type": "markdown",
   "id": "c003ded3",
   "metadata": {},
   "source": [
    "## Question 3: Write a Python Program to Print the Fibonacci sequence?"
   ]
  },
  {
   "cell_type": "markdown",
   "id": "52307a32",
   "metadata": {},
   "source": [
    "|#  |1  |2  |3  |4  |5  |6  |7  |8  |9  |10 |\n",
    "|---|---|---|---|---|---|---|---|---|---|---|\n",
    "|N  |0  |1  |2  |3  |4  |5  |6  |7  |8  |9  |\n",
    "|Xn |0  |1  |1  |2  |3  |5  |8  |13  |21  |34  |"
   ]
  },
  {
   "cell_type": "code",
   "execution_count": 100,
   "id": "3fa55501",
   "metadata": {},
   "outputs": [],
   "source": [
    "# Function to get Fibonacci sequence\n",
    "def fibonacci(n):\n",
    "    res = 0\n",
    "    if n > 0 and n <= 2:\n",
    "        return 1\n",
    "    else:\n",
    "        return fibonacci(n-1) + fibonacci(n-2)\n",
    "    return res"
   ]
  },
  {
   "cell_type": "code",
   "execution_count": 101,
   "id": "c706fc26",
   "metadata": {},
   "outputs": [
    {
     "data": {
      "text/plain": [
       "34"
      ]
     },
     "execution_count": 101,
     "metadata": {},
     "output_type": "execute_result"
    }
   ],
   "source": [
    "# Test case 1\n",
    "fibonacci(9)"
   ]
  },
  {
   "cell_type": "code",
   "execution_count": 102,
   "id": "0d7d32e4",
   "metadata": {},
   "outputs": [
    {
     "data": {
      "text/plain": [
       "21"
      ]
     },
     "execution_count": 102,
     "metadata": {},
     "output_type": "execute_result"
    }
   ],
   "source": [
    "# Test case 2\n",
    "fibonacci(8)"
   ]
  },
  {
   "cell_type": "markdown",
   "id": "286430e3",
   "metadata": {},
   "source": [
    "## Question 4: Write a Python Program to Check Armstrong Number?"
   ]
  },
  {
   "cell_type": "code",
   "execution_count": 63,
   "id": "e5ac92fa",
   "metadata": {},
   "outputs": [],
   "source": [
    "# Check for armstrong number\n",
    "def armstrong_num(n):\n",
    "    num = str(n)\n",
    "    return True if sum([int(num[index])**3 for index in range(len(num))]) == n else False"
   ]
  },
  {
   "cell_type": "code",
   "execution_count": 66,
   "id": "23f023a8",
   "metadata": {},
   "outputs": [
    {
     "name": "stdout",
     "output_type": "stream",
     "text": [
      "153 is Armstrong Number\n"
     ]
    }
   ],
   "source": [
    "# Test case 1\n",
    "test_inp = 153\n",
    "print('{0} is Armstrong Number'.format(test_inp) if armstrong_num(test_inp) else '{0} is not Armstrong Number'.format(test_inp))"
   ]
  },
  {
   "cell_type": "code",
   "execution_count": 67,
   "id": "573b6cf7",
   "metadata": {},
   "outputs": [
    {
     "name": "stdout",
     "output_type": "stream",
     "text": [
      "371 is Armstrong Number\n"
     ]
    }
   ],
   "source": [
    "# Test case 2\n",
    "test_inp = 371\n",
    "print('{0} is Armstrong Number'.format(test_inp) if armstrong_num(test_inp) else '{0} is not Armstrong Number'.format(test_inp))"
   ]
  },
  {
   "cell_type": "code",
   "execution_count": 68,
   "id": "84e06e57",
   "metadata": {},
   "outputs": [
    {
     "name": "stdout",
     "output_type": "stream",
     "text": [
      "201 is not Armstrong Number\n"
     ]
    }
   ],
   "source": [
    "# Test case 3\n",
    "test_inp = 201\n",
    "print('{0} is Armstrong Number'.format(test_inp) if armstrong_num(test_inp) else '{0} is not Armstrong Number'.format(test_inp))"
   ]
  },
  {
   "cell_type": "markdown",
   "id": "fb22b6d4",
   "metadata": {},
   "source": [
    "## Question 5: Write a Python Program to Find Armstrong Number in an Interval?"
   ]
  },
  {
   "cell_type": "code",
   "execution_count": 90,
   "id": "df24401c",
   "metadata": {},
   "outputs": [],
   "source": [
    "# Function to compute armstrong number for interval\n",
    "def armstrong_num_for_interval(*params):\n",
    "    for param in range(min(sorted(list(params))), max(sorted(list(params)))+1):\n",
    "        num = str(param)\n",
    "        if sum([int(num[index])**3 for index in range(len(num))]) == param:\n",
    "            print('{0} is an Armstrong Number'.format(param))\n",
    "        else:\n",
    "            print('{0} is not an Armstrong Number'.format(param))"
   ]
  },
  {
   "cell_type": "code",
   "execution_count": 91,
   "id": "e5a7150c",
   "metadata": {},
   "outputs": [
    {
     "name": "stdout",
     "output_type": "stream",
     "text": [
      "152 is not an Armstrong Number\n",
      "153 is an Armstrong Number\n",
      "154 is not an Armstrong Number\n"
     ]
    }
   ],
   "source": [
    "# Test case 1\n",
    "armstrong_num_for_interval(152,154)"
   ]
  },
  {
   "cell_type": "code",
   "execution_count": 92,
   "id": "770cde9e",
   "metadata": {},
   "outputs": [
    {
     "name": "stdout",
     "output_type": "stream",
     "text": [
      "368 is not an Armstrong Number\n",
      "369 is not an Armstrong Number\n",
      "370 is an Armstrong Number\n",
      "371 is an Armstrong Number\n",
      "372 is not an Armstrong Number\n",
      "373 is not an Armstrong Number\n",
      "374 is not an Armstrong Number\n"
     ]
    }
   ],
   "source": [
    "# Test case 2\n",
    "armstrong_num_for_interval(368,374)"
   ]
  },
  {
   "cell_type": "markdown",
   "id": "03565ea0",
   "metadata": {},
   "source": [
    "## Question 6: Write a Python Program to Find the Sum of Natural Numbers? "
   ]
  },
  {
   "cell_type": "code",
   "execution_count": 97,
   "id": "1dd0d235",
   "metadata": {},
   "outputs": [],
   "source": [
    "# Find sum of n natural numbers\n",
    "def find_sum(n):\n",
    "    if n > 0:\n",
    "        return sum([val for val in range(1,n+1)])"
   ]
  },
  {
   "cell_type": "code",
   "execution_count": 95,
   "id": "9cb8ba83",
   "metadata": {},
   "outputs": [
    {
     "data": {
      "text/plain": [
       "55"
      ]
     },
     "execution_count": 95,
     "metadata": {},
     "output_type": "execute_result"
    }
   ],
   "source": [
    "# Test case 1\n",
    "find_sum(10)"
   ]
  },
  {
   "cell_type": "code",
   "execution_count": 96,
   "id": "1d3f9031",
   "metadata": {},
   "outputs": [
    {
     "data": {
      "text/plain": [
       "6"
      ]
     },
     "execution_count": 96,
     "metadata": {},
     "output_type": "execute_result"
    }
   ],
   "source": [
    "# Test case 2\n",
    "find_sum(3)"
   ]
  }
 ],
 "metadata": {
  "kernelspec": {
   "display_name": "Python 3 (ipykernel)",
   "language": "python",
   "name": "python3"
  },
  "language_info": {
   "codemirror_mode": {
    "name": "ipython",
    "version": 3
   },
   "file_extension": ".py",
   "mimetype": "text/x-python",
   "name": "python",
   "nbconvert_exporter": "python",
   "pygments_lexer": "ipython3",
   "version": "3.9.7"
  }
 },
 "nbformat": 4,
 "nbformat_minor": 5
}
