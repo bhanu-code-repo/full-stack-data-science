{
 "cells": [
  {
   "cell_type": "code",
   "execution_count": 1,
   "id": "2442cc2f",
   "metadata": {},
   "outputs": [],
   "source": [
    "# Function to convert units\n",
    "def convert_units(from_unit, factor, offset=0):\n",
    "    to_unit = 0\n",
    "    if type(from_unit) in [int, float]:\n",
    "        if offset < 1:\n",
    "            to_unit = from_unit * factor\n",
    "        else:\n",
    "            to_unit = (from_unit * factor) + offset\n",
    "    return to_unit"
   ]
  },
  {
   "cell_type": "markdown",
   "id": "ff3790e1",
   "metadata": {},
   "source": [
    "### Question 1. Write a Python program to convert kilometers to miles?"
   ]
  },
  {
   "cell_type": "code",
   "execution_count": 2,
   "id": "111de1b4",
   "metadata": {},
   "outputs": [],
   "source": [
    "# Function to convert KM to Miles\n",
    "def convert_km_to_miles(km):\n",
    "    miles = 0\n",
    "    if type(km) in [int, float]:\n",
    "        miles = km * 0.62137119\n",
    "    return round(miles,2)"
   ]
  },
  {
   "cell_type": "code",
   "execution_count": 3,
   "id": "271d000d",
   "metadata": {},
   "outputs": [
    {
     "data": {
      "text/plain": [
       "0.62"
      ]
     },
     "execution_count": 3,
     "metadata": {},
     "output_type": "execute_result"
    }
   ],
   "source": [
    "# Convert 1 km to miles\n",
    "convert_km_to_miles(1)"
   ]
  },
  {
   "cell_type": "code",
   "execution_count": 4,
   "id": "6c2ebc5a",
   "metadata": {},
   "outputs": [
    {
     "data": {
      "text/plain": [
       "12.4274238"
      ]
     },
     "execution_count": 4,
     "metadata": {},
     "output_type": "execute_result"
    }
   ],
   "source": [
    "# Convert 20 km to miles\n",
    "convert_units(20, 0.62137119)"
   ]
  },
  {
   "cell_type": "markdown",
   "id": "0f0dd817",
   "metadata": {},
   "source": [
    "### Question 2. Write a Python program to convert Celsius to Fahrenheit?"
   ]
  },
  {
   "cell_type": "code",
   "execution_count": 5,
   "id": "d6c05624",
   "metadata": {},
   "outputs": [],
   "source": [
    "# Function to convert KM to Miles\n",
    "def convert_C_to_F(c):\n",
    "    f = 0\n",
    "    if type(c) in [int, float]:\n",
    "        f = c * 1.8 + 32\n",
    "    return round(f,2)"
   ]
  },
  {
   "cell_type": "code",
   "execution_count": 6,
   "id": "4fb93bde",
   "metadata": {},
   "outputs": [
    {
     "data": {
      "text/plain": [
       "89.6"
      ]
     },
     "execution_count": 6,
     "metadata": {},
     "output_type": "execute_result"
    }
   ],
   "source": [
    "# Convert 32 celsius to fahrenheit\n",
    "convert_C_to_F(32)"
   ]
  },
  {
   "cell_type": "code",
   "execution_count": 7,
   "id": "0b2e0ef3",
   "metadata": {},
   "outputs": [
    {
     "data": {
      "text/plain": [
       "89.6"
      ]
     },
     "execution_count": 7,
     "metadata": {},
     "output_type": "execute_result"
    }
   ],
   "source": [
    "# Convert 32 celsius to fahrenheit\n",
    "convert_units(32, 1.8, offset=32)"
   ]
  },
  {
   "cell_type": "markdown",
   "id": "808ee7ea",
   "metadata": {},
   "source": [
    "### Question 3. Write a Python program to display calendar?"
   ]
  },
  {
   "cell_type": "code",
   "execution_count": 8,
   "id": "08ceb988",
   "metadata": {},
   "outputs": [],
   "source": [
    "# Importing requried package\n",
    "import calendar\n",
    "\n",
    "# Function to display calender by month and year\n",
    "def display_calender(mm,yy):\n",
    "    print(calendar.month(yy,mm))"
   ]
  },
  {
   "cell_type": "code",
   "execution_count": 9,
   "id": "2be4a52d",
   "metadata": {},
   "outputs": [
    {
     "name": "stdout",
     "output_type": "stream",
     "text": [
      "Enter year: 21\n",
      "Enter month: 12\n",
      "\n",
      "    December 21\n",
      "Mo Tu We Th Fr Sa Su\n",
      "       1  2  3  4  5\n",
      " 6  7  8  9 10 11 12\n",
      "13 14 15 16 17 18 19\n",
      "20 21 22 23 24 25 26\n",
      "27 28 29 30 31\n",
      "\n"
     ]
    }
   ],
   "source": [
    "# Enter the month and year  \n",
    "yy = int(input(\"Enter year: \"))  \n",
    "mm = int(input(\"Enter month: \"))\n",
    "print('')\n",
    "display_calender(mm,yy)"
   ]
  },
  {
   "cell_type": "markdown",
   "id": "4a36e1dd",
   "metadata": {},
   "source": [
    "### Question 4. Write a Python program to solve quadratic equation?"
   ]
  },
  {
   "cell_type": "markdown",
   "id": "40487a56",
   "metadata": {},
   "source": [
    "For quadratic equation, ${ax^2} + {bx} +{c}$\n",
    "\n",
    "where,\n",
    "- a, b, and c are coefficient and real numbers and also a ≠ 0.\n",
    "- If a is equal to 0 that equation is not valid quadratic equation.\n",
    "\n",
    "For this we will first calculate discriminant, formula: ${b^2} - {4ac}$, \n",
    "- if discriminant value is +ve i.e. greater than 0 then equation has real and diffrent roots \n",
    "- if discriminant value is 0 then equation has real and same roots\n",
    "- if discriminant value is -ve i.e. less than 0 then equation has complex roots\n",
    "\n",
    "roots = $\\frac{{-b} + \\sqrt{{b^2} - {4ac}}}{2a}$, $\\frac{{-b} - \\sqrt{{b^2} - {4ac}}}{2a}$"
   ]
  },
  {
   "cell_type": "code",
   "execution_count": 10,
   "id": "4ba22f3e",
   "metadata": {},
   "outputs": [],
   "source": [
    "# importing required package\n",
    "import math"
   ]
  },
  {
   "cell_type": "code",
   "execution_count": 11,
   "id": "a10f2680",
   "metadata": {},
   "outputs": [],
   "source": [
    "# Function to compute roots: roots can be real as well as imaginary (complex roots)\n",
    "def calculate_roots(a,b,c):\n",
    "    discriminant = b**2 - 4*a*c\n",
    "    if discriminant > 0:\n",
    "        print((-b + math.sqrt(abs(discriminant)))/2*a)\n",
    "        print((-b - math.sqrt(abs(discriminant)))/2*a)\n",
    "        print('Root Type: Real & Diffrent Roots')\n",
    "    elif discriminant == 0:\n",
    "        print(-b/2*a)\n",
    "        print('Root Type: Real & Same Roots')\n",
    "    else:\n",
    "        print(-b/2*a,'+ i', math.sqrt(abs(discriminant)))\n",
    "        print(-b/2*a ,\"- i\", math.sqrt(abs(discriminant)))\n",
    "        print('Root Type: Complex Roots')"
   ]
  },
  {
   "cell_type": "code",
   "execution_count": 12,
   "id": "0cf07ad0",
   "metadata": {},
   "outputs": [
    {
     "name": "stdout",
     "output_type": "stream",
     "text": [
      "2.0\n",
      "-12.0\n",
      "Root Type: Real & Diffrent Roots\n"
     ]
    }
   ],
   "source": [
    "# Calculate roots\n",
    "calculate_roots(1,10,-24)"
   ]
  },
  {
   "cell_type": "code",
   "execution_count": 13,
   "id": "06bdae6b",
   "metadata": {
    "scrolled": true
   },
   "outputs": [
    {
     "name": "stdout",
     "output_type": "stream",
     "text": [
      "-1.0\n",
      "Root Type: Real & Same Roots\n"
     ]
    }
   ],
   "source": [
    "# Calculate roots\n",
    "calculate_roots(1,2,1)"
   ]
  },
  {
   "cell_type": "code",
   "execution_count": 14,
   "id": "9f8ee0ec",
   "metadata": {},
   "outputs": [
    {
     "name": "stdout",
     "output_type": "stream",
     "text": [
      "-2.0 + i 2.0\n",
      "-2.0 - i 2.0\n",
      "Root Type: Complex Roots\n"
     ]
    }
   ],
   "source": [
    "# Calculate roots\n",
    "calculate_roots(2,2,1)"
   ]
  },
  {
   "cell_type": "markdown",
   "id": "68fceee2",
   "metadata": {},
   "source": [
    "### Question 5. Write a Python program to swap two variables without temp variable?"
   ]
  },
  {
   "cell_type": "code",
   "execution_count": 15,
   "id": "063be129",
   "metadata": {},
   "outputs": [
    {
     "name": "stdout",
     "output_type": "stream",
     "text": [
      "80\n",
      "60\n"
     ]
    }
   ],
   "source": [
    "# Swap 2 numbers\n",
    "num_1 = 60\n",
    "num_2 = 80\n",
    "num1, num2 = num_2, num_1\n",
    "print(num1)\n",
    "print(num2)"
   ]
  }
 ],
 "metadata": {
  "kernelspec": {
   "display_name": "Python 3 (ipykernel)",
   "language": "python",
   "name": "python3"
  },
  "language_info": {
   "codemirror_mode": {
    "name": "ipython",
    "version": 3
   },
   "file_extension": ".py",
   "mimetype": "text/x-python",
   "name": "python",
   "nbconvert_exporter": "python",
   "pygments_lexer": "ipython3",
   "version": "3.9.7"
  }
 },
 "nbformat": 4,
 "nbformat_minor": 5
}
