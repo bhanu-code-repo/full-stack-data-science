{
 "cells": [
  {
   "cell_type": "markdown",
   "id": "9fda527c",
   "metadata": {},
   "source": [
    "## 12 March"
   ]
  },
  {
   "cell_type": "code",
   "execution_count": 1,
   "id": "b145fc64",
   "metadata": {},
   "outputs": [],
   "source": [
    "import pandas as pd"
   ]
  },
  {
   "cell_type": "code",
   "execution_count": 2,
   "id": "c10b183c",
   "metadata": {},
   "outputs": [
    {
     "data": {
      "text/html": [
       "<div>\n",
       "<style scoped>\n",
       "    .dataframe tbody tr th:only-of-type {\n",
       "        vertical-align: middle;\n",
       "    }\n",
       "\n",
       "    .dataframe tbody tr th {\n",
       "        vertical-align: top;\n",
       "    }\n",
       "\n",
       "    .dataframe thead th {\n",
       "        text-align: right;\n",
       "    }\n",
       "</style>\n",
       "<table border=\"1\" class=\"dataframe\">\n",
       "  <thead>\n",
       "    <tr style=\"text-align: right;\">\n",
       "      <th></th>\n",
       "      <th>col1</th>\n",
       "      <th>col2</th>\n",
       "      <th>col3</th>\n",
       "    </tr>\n",
       "  </thead>\n",
       "  <tbody>\n",
       "    <tr>\n",
       "      <th>0</th>\n",
       "      <td>1</td>\n",
       "      <td>45</td>\n",
       "      <td>ron</td>\n",
       "    </tr>\n",
       "    <tr>\n",
       "      <th>1</th>\n",
       "      <td>2</td>\n",
       "      <td>56</td>\n",
       "      <td>tom</td>\n",
       "    </tr>\n",
       "    <tr>\n",
       "      <th>2</th>\n",
       "      <td>3</td>\n",
       "      <td>76</td>\n",
       "      <td>tim</td>\n",
       "    </tr>\n",
       "    <tr>\n",
       "      <th>3</th>\n",
       "      <td>4</td>\n",
       "      <td>78</td>\n",
       "      <td>dan</td>\n",
       "    </tr>\n",
       "    <tr>\n",
       "      <th>4</th>\n",
       "      <td>5</td>\n",
       "      <td>89</td>\n",
       "      <td>erik</td>\n",
       "    </tr>\n",
       "  </tbody>\n",
       "</table>\n",
       "</div>"
      ],
      "text/plain": [
       "   col1  col2  col3\n",
       "0     1    45   ron\n",
       "1     2    56   tom\n",
       "2     3    76   tim\n",
       "3     4    78   dan\n",
       "4     5    89  erik"
      ]
     },
     "execution_count": 2,
     "metadata": {},
     "output_type": "execute_result"
    }
   ],
   "source": [
    "# create dataframe\n",
    "df = pd.DataFrame({\n",
    "    'col1': [1,2,3,4,5],\n",
    "    'col2': [45,56,76,78,89],\n",
    "    'col3': 'ron tom tim dan erik'.split()\n",
    "})\n",
    "df"
   ]
  },
  {
   "cell_type": "code",
   "execution_count": 3,
   "id": "acb93daf",
   "metadata": {},
   "outputs": [
    {
     "data": {
      "text/html": [
       "<div>\n",
       "<style scoped>\n",
       "    .dataframe tbody tr th:only-of-type {\n",
       "        vertical-align: middle;\n",
       "    }\n",
       "\n",
       "    .dataframe tbody tr th {\n",
       "        vertical-align: top;\n",
       "    }\n",
       "\n",
       "    .dataframe thead th {\n",
       "        text-align: right;\n",
       "    }\n",
       "</style>\n",
       "<table border=\"1\" class=\"dataframe\">\n",
       "  <thead>\n",
       "    <tr style=\"text-align: right;\">\n",
       "      <th></th>\n",
       "      <th>col1</th>\n",
       "      <th>col2</th>\n",
       "      <th>col3</th>\n",
       "      <th>col4</th>\n",
       "    </tr>\n",
       "  </thead>\n",
       "  <tbody>\n",
       "    <tr>\n",
       "      <th>0</th>\n",
       "      <td>1</td>\n",
       "      <td>45</td>\n",
       "      <td>ron</td>\n",
       "      <td>1</td>\n",
       "    </tr>\n",
       "    <tr>\n",
       "      <th>1</th>\n",
       "      <td>2</td>\n",
       "      <td>56</td>\n",
       "      <td>tom</td>\n",
       "      <td>4</td>\n",
       "    </tr>\n",
       "    <tr>\n",
       "      <th>2</th>\n",
       "      <td>3</td>\n",
       "      <td>76</td>\n",
       "      <td>tim</td>\n",
       "      <td>9</td>\n",
       "    </tr>\n",
       "    <tr>\n",
       "      <th>3</th>\n",
       "      <td>4</td>\n",
       "      <td>78</td>\n",
       "      <td>dan</td>\n",
       "      <td>16</td>\n",
       "    </tr>\n",
       "    <tr>\n",
       "      <th>4</th>\n",
       "      <td>5</td>\n",
       "      <td>89</td>\n",
       "      <td>erik</td>\n",
       "      <td>25</td>\n",
       "    </tr>\n",
       "  </tbody>\n",
       "</table>\n",
       "</div>"
      ],
      "text/plain": [
       "   col1  col2  col3  col4\n",
       "0     1    45   ron     1\n",
       "1     2    56   tom     4\n",
       "2     3    76   tim     9\n",
       "3     4    78   dan    16\n",
       "4     5    89  erik    25"
      ]
     },
     "execution_count": 3,
     "metadata": {},
     "output_type": "execute_result"
    }
   ],
   "source": [
    "df['col4'] = df['col1']**2\n",
    "df"
   ]
  },
  {
   "cell_type": "code",
   "execution_count": 4,
   "id": "09442bb6",
   "metadata": {},
   "outputs": [
    {
     "data": {
      "text/html": [
       "<div>\n",
       "<style scoped>\n",
       "    .dataframe tbody tr th:only-of-type {\n",
       "        vertical-align: middle;\n",
       "    }\n",
       "\n",
       "    .dataframe tbody tr th {\n",
       "        vertical-align: top;\n",
       "    }\n",
       "\n",
       "    .dataframe thead th {\n",
       "        text-align: right;\n",
       "    }\n",
       "</style>\n",
       "<table border=\"1\" class=\"dataframe\">\n",
       "  <thead>\n",
       "    <tr style=\"text-align: right;\">\n",
       "      <th></th>\n",
       "      <th>col1</th>\n",
       "      <th>col2</th>\n",
       "      <th>col3</th>\n",
       "      <th>col4</th>\n",
       "      <th>col1_square</th>\n",
       "    </tr>\n",
       "  </thead>\n",
       "  <tbody>\n",
       "    <tr>\n",
       "      <th>0</th>\n",
       "      <td>1</td>\n",
       "      <td>45</td>\n",
       "      <td>ron</td>\n",
       "      <td>1</td>\n",
       "      <td>1</td>\n",
       "    </tr>\n",
       "    <tr>\n",
       "      <th>1</th>\n",
       "      <td>2</td>\n",
       "      <td>56</td>\n",
       "      <td>tom</td>\n",
       "      <td>4</td>\n",
       "      <td>4</td>\n",
       "    </tr>\n",
       "    <tr>\n",
       "      <th>2</th>\n",
       "      <td>3</td>\n",
       "      <td>76</td>\n",
       "      <td>tim</td>\n",
       "      <td>9</td>\n",
       "      <td>9</td>\n",
       "    </tr>\n",
       "    <tr>\n",
       "      <th>3</th>\n",
       "      <td>4</td>\n",
       "      <td>78</td>\n",
       "      <td>dan</td>\n",
       "      <td>16</td>\n",
       "      <td>16</td>\n",
       "    </tr>\n",
       "    <tr>\n",
       "      <th>4</th>\n",
       "      <td>5</td>\n",
       "      <td>89</td>\n",
       "      <td>erik</td>\n",
       "      <td>25</td>\n",
       "      <td>25</td>\n",
       "    </tr>\n",
       "  </tbody>\n",
       "</table>\n",
       "</div>"
      ],
      "text/plain": [
       "   col1  col2  col3  col4  col1_square\n",
       "0     1    45   ron     1            1\n",
       "1     2    56   tom     4            4\n",
       "2     3    76   tim     9            9\n",
       "3     4    78   dan    16           16\n",
       "4     5    89  erik    25           25"
      ]
     },
     "execution_count": 4,
     "metadata": {},
     "output_type": "execute_result"
    }
   ],
   "source": [
    "df = df.assign(col1_square=df.col1.apply(lambda x: x**2))\n",
    "df"
   ]
  },
  {
   "cell_type": "code",
   "execution_count": 5,
   "id": "4d5341b6",
   "metadata": {},
   "outputs": [
    {
     "data": {
      "text/html": [
       "<div>\n",
       "<style scoped>\n",
       "    .dataframe tbody tr th:only-of-type {\n",
       "        vertical-align: middle;\n",
       "    }\n",
       "\n",
       "    .dataframe tbody tr th {\n",
       "        vertical-align: top;\n",
       "    }\n",
       "\n",
       "    .dataframe thead th {\n",
       "        text-align: right;\n",
       "    }\n",
       "</style>\n",
       "<table border=\"1\" class=\"dataframe\">\n",
       "  <thead>\n",
       "    <tr style=\"text-align: right;\">\n",
       "      <th></th>\n",
       "      <th>col1</th>\n",
       "      <th>col2</th>\n",
       "      <th>col3</th>\n",
       "      <th>col4</th>\n",
       "      <th>col1_square</th>\n",
       "      <th>col5</th>\n",
       "    </tr>\n",
       "  </thead>\n",
       "  <tbody>\n",
       "    <tr>\n",
       "      <th>0</th>\n",
       "      <td>1</td>\n",
       "      <td>45</td>\n",
       "      <td>ron</td>\n",
       "      <td>1</td>\n",
       "      <td>1</td>\n",
       "      <td>r</td>\n",
       "    </tr>\n",
       "    <tr>\n",
       "      <th>1</th>\n",
       "      <td>2</td>\n",
       "      <td>56</td>\n",
       "      <td>tom</td>\n",
       "      <td>4</td>\n",
       "      <td>4</td>\n",
       "      <td>t</td>\n",
       "    </tr>\n",
       "    <tr>\n",
       "      <th>2</th>\n",
       "      <td>3</td>\n",
       "      <td>76</td>\n",
       "      <td>tim</td>\n",
       "      <td>9</td>\n",
       "      <td>9</td>\n",
       "      <td>t</td>\n",
       "    </tr>\n",
       "    <tr>\n",
       "      <th>3</th>\n",
       "      <td>4</td>\n",
       "      <td>78</td>\n",
       "      <td>dan</td>\n",
       "      <td>16</td>\n",
       "      <td>16</td>\n",
       "      <td>d</td>\n",
       "    </tr>\n",
       "    <tr>\n",
       "      <th>4</th>\n",
       "      <td>5</td>\n",
       "      <td>89</td>\n",
       "      <td>erik</td>\n",
       "      <td>25</td>\n",
       "      <td>25</td>\n",
       "      <td>e</td>\n",
       "    </tr>\n",
       "  </tbody>\n",
       "</table>\n",
       "</div>"
      ],
      "text/plain": [
       "   col1  col2  col3  col4  col1_square col5\n",
       "0     1    45   ron     1            1    r\n",
       "1     2    56   tom     4            4    t\n",
       "2     3    76   tim     9            9    t\n",
       "3     4    78   dan    16           16    d\n",
       "4     5    89  erik    25           25    e"
      ]
     },
     "execution_count": 5,
     "metadata": {},
     "output_type": "execute_result"
    }
   ],
   "source": [
    "df['col5'] = df['col3'].str[0]\n",
    "df"
   ]
  },
  {
   "cell_type": "code",
   "execution_count": 6,
   "id": "2518ecc4",
   "metadata": {},
   "outputs": [
    {
     "data": {
      "text/html": [
       "<div>\n",
       "<style scoped>\n",
       "    .dataframe tbody tr th:only-of-type {\n",
       "        vertical-align: middle;\n",
       "    }\n",
       "\n",
       "    .dataframe tbody tr th {\n",
       "        vertical-align: top;\n",
       "    }\n",
       "\n",
       "    .dataframe thead th {\n",
       "        text-align: right;\n",
       "    }\n",
       "</style>\n",
       "<table border=\"1\" class=\"dataframe\">\n",
       "  <thead>\n",
       "    <tr style=\"text-align: right;\">\n",
       "      <th></th>\n",
       "      <th>col1</th>\n",
       "      <th>col2</th>\n",
       "      <th>col3</th>\n",
       "      <th>col4</th>\n",
       "      <th>col1_square</th>\n",
       "      <th>col5</th>\n",
       "      <th>col3_first_char</th>\n",
       "    </tr>\n",
       "  </thead>\n",
       "  <tbody>\n",
       "    <tr>\n",
       "      <th>0</th>\n",
       "      <td>1</td>\n",
       "      <td>45</td>\n",
       "      <td>ron</td>\n",
       "      <td>1</td>\n",
       "      <td>1</td>\n",
       "      <td>r</td>\n",
       "      <td>r</td>\n",
       "    </tr>\n",
       "    <tr>\n",
       "      <th>1</th>\n",
       "      <td>2</td>\n",
       "      <td>56</td>\n",
       "      <td>tom</td>\n",
       "      <td>4</td>\n",
       "      <td>4</td>\n",
       "      <td>t</td>\n",
       "      <td>t</td>\n",
       "    </tr>\n",
       "    <tr>\n",
       "      <th>2</th>\n",
       "      <td>3</td>\n",
       "      <td>76</td>\n",
       "      <td>tim</td>\n",
       "      <td>9</td>\n",
       "      <td>9</td>\n",
       "      <td>t</td>\n",
       "      <td>t</td>\n",
       "    </tr>\n",
       "    <tr>\n",
       "      <th>3</th>\n",
       "      <td>4</td>\n",
       "      <td>78</td>\n",
       "      <td>dan</td>\n",
       "      <td>16</td>\n",
       "      <td>16</td>\n",
       "      <td>d</td>\n",
       "      <td>d</td>\n",
       "    </tr>\n",
       "    <tr>\n",
       "      <th>4</th>\n",
       "      <td>5</td>\n",
       "      <td>89</td>\n",
       "      <td>erik</td>\n",
       "      <td>25</td>\n",
       "      <td>25</td>\n",
       "      <td>e</td>\n",
       "      <td>e</td>\n",
       "    </tr>\n",
       "  </tbody>\n",
       "</table>\n",
       "</div>"
      ],
      "text/plain": [
       "   col1  col2  col3  col4  col1_square col5 col3_first_char\n",
       "0     1    45   ron     1            1    r               r\n",
       "1     2    56   tom     4            4    t               t\n",
       "2     3    76   tim     9            9    t               t\n",
       "3     4    78   dan    16           16    d               d\n",
       "4     5    89  erik    25           25    e               e"
      ]
     },
     "execution_count": 6,
     "metadata": {},
     "output_type": "execute_result"
    }
   ],
   "source": [
    "df = df.assign(col3_first_char=df.col3.apply(lambda x: x[0]))\n",
    "df"
   ]
  },
  {
   "cell_type": "code",
   "execution_count": 7,
   "id": "fe681fab",
   "metadata": {},
   "outputs": [
    {
     "data": {
      "text/html": [
       "<div>\n",
       "<style scoped>\n",
       "    .dataframe tbody tr th:only-of-type {\n",
       "        vertical-align: middle;\n",
       "    }\n",
       "\n",
       "    .dataframe tbody tr th {\n",
       "        vertical-align: top;\n",
       "    }\n",
       "\n",
       "    .dataframe thead th {\n",
       "        text-align: right;\n",
       "    }\n",
       "</style>\n",
       "<table border=\"1\" class=\"dataframe\">\n",
       "  <thead>\n",
       "    <tr style=\"text-align: right;\">\n",
       "      <th></th>\n",
       "      <th>col1</th>\n",
       "      <th>col2</th>\n",
       "      <th>col3</th>\n",
       "      <th>col4</th>\n",
       "      <th>col1_square</th>\n",
       "      <th>col5</th>\n",
       "      <th>col3_first_char</th>\n",
       "      <th>col6</th>\n",
       "    </tr>\n",
       "  </thead>\n",
       "  <tbody>\n",
       "    <tr>\n",
       "      <th>0</th>\n",
       "      <td>1</td>\n",
       "      <td>45</td>\n",
       "      <td>ron</td>\n",
       "      <td>1</td>\n",
       "      <td>1</td>\n",
       "      <td>r</td>\n",
       "      <td>r</td>\n",
       "      <td>r</td>\n",
       "    </tr>\n",
       "    <tr>\n",
       "      <th>1</th>\n",
       "      <td>2</td>\n",
       "      <td>56</td>\n",
       "      <td>tom</td>\n",
       "      <td>4</td>\n",
       "      <td>4</td>\n",
       "      <td>t</td>\n",
       "      <td>t</td>\n",
       "      <td>z</td>\n",
       "    </tr>\n",
       "    <tr>\n",
       "      <th>2</th>\n",
       "      <td>3</td>\n",
       "      <td>76</td>\n",
       "      <td>tim</td>\n",
       "      <td>9</td>\n",
       "      <td>9</td>\n",
       "      <td>t</td>\n",
       "      <td>t</td>\n",
       "      <td>z</td>\n",
       "    </tr>\n",
       "    <tr>\n",
       "      <th>3</th>\n",
       "      <td>4</td>\n",
       "      <td>78</td>\n",
       "      <td>dan</td>\n",
       "      <td>16</td>\n",
       "      <td>16</td>\n",
       "      <td>d</td>\n",
       "      <td>d</td>\n",
       "      <td>z</td>\n",
       "    </tr>\n",
       "    <tr>\n",
       "      <th>4</th>\n",
       "      <td>5</td>\n",
       "      <td>89</td>\n",
       "      <td>erik</td>\n",
       "      <td>25</td>\n",
       "      <td>25</td>\n",
       "      <td>e</td>\n",
       "      <td>e</td>\n",
       "      <td>z</td>\n",
       "    </tr>\n",
       "  </tbody>\n",
       "</table>\n",
       "</div>"
      ],
      "text/plain": [
       "   col1  col2  col3  col4  col1_square col5 col3_first_char col6\n",
       "0     1    45   ron     1            1    r               r    r\n",
       "1     2    56   tom     4            4    t               t    z\n",
       "2     3    76   tim     9            9    t               t    z\n",
       "3     4    78   dan    16           16    d               d    z\n",
       "4     5    89  erik    25           25    e               e    z"
      ]
     },
     "execution_count": 7,
     "metadata": {},
     "output_type": "execute_result"
    }
   ],
   "source": [
    "df = df.assign(col6=df.col3.apply(lambda x: 'r' if x[0] == 'r' else 'z'))\n",
    "df"
   ]
  },
  {
   "cell_type": "code",
   "execution_count": 8,
   "id": "bad7fa96",
   "metadata": {},
   "outputs": [
    {
     "data": {
      "text/html": [
       "<div>\n",
       "<style scoped>\n",
       "    .dataframe tbody tr th:only-of-type {\n",
       "        vertical-align: middle;\n",
       "    }\n",
       "\n",
       "    .dataframe tbody tr th {\n",
       "        vertical-align: top;\n",
       "    }\n",
       "\n",
       "    .dataframe thead th {\n",
       "        text-align: right;\n",
       "    }\n",
       "</style>\n",
       "<table border=\"1\" class=\"dataframe\">\n",
       "  <thead>\n",
       "    <tr style=\"text-align: right;\">\n",
       "      <th></th>\n",
       "      <th>col1</th>\n",
       "      <th>col2</th>\n",
       "      <th>col3</th>\n",
       "      <th>col4</th>\n",
       "      <th>col1_square</th>\n",
       "      <th>col5</th>\n",
       "      <th>col3_first_char</th>\n",
       "      <th>col6</th>\n",
       "      <th>col7</th>\n",
       "    </tr>\n",
       "  </thead>\n",
       "  <tbody>\n",
       "    <tr>\n",
       "      <th>0</th>\n",
       "      <td>1</td>\n",
       "      <td>45</td>\n",
       "      <td>ron</td>\n",
       "      <td>1</td>\n",
       "      <td>1</td>\n",
       "      <td>r</td>\n",
       "      <td>r</td>\n",
       "      <td>r</td>\n",
       "      <td>3</td>\n",
       "    </tr>\n",
       "    <tr>\n",
       "      <th>1</th>\n",
       "      <td>2</td>\n",
       "      <td>56</td>\n",
       "      <td>tom</td>\n",
       "      <td>4</td>\n",
       "      <td>4</td>\n",
       "      <td>t</td>\n",
       "      <td>t</td>\n",
       "      <td>z</td>\n",
       "      <td>3</td>\n",
       "    </tr>\n",
       "    <tr>\n",
       "      <th>2</th>\n",
       "      <td>3</td>\n",
       "      <td>76</td>\n",
       "      <td>tim</td>\n",
       "      <td>9</td>\n",
       "      <td>9</td>\n",
       "      <td>t</td>\n",
       "      <td>t</td>\n",
       "      <td>z</td>\n",
       "      <td>3</td>\n",
       "    </tr>\n",
       "    <tr>\n",
       "      <th>3</th>\n",
       "      <td>4</td>\n",
       "      <td>78</td>\n",
       "      <td>dan</td>\n",
       "      <td>16</td>\n",
       "      <td>16</td>\n",
       "      <td>d</td>\n",
       "      <td>d</td>\n",
       "      <td>z</td>\n",
       "      <td>3</td>\n",
       "    </tr>\n",
       "    <tr>\n",
       "      <th>4</th>\n",
       "      <td>5</td>\n",
       "      <td>89</td>\n",
       "      <td>erik</td>\n",
       "      <td>25</td>\n",
       "      <td>25</td>\n",
       "      <td>e</td>\n",
       "      <td>e</td>\n",
       "      <td>z</td>\n",
       "      <td>4</td>\n",
       "    </tr>\n",
       "  </tbody>\n",
       "</table>\n",
       "</div>"
      ],
      "text/plain": [
       "   col1  col2  col3  col4  col1_square col5 col3_first_char col6  col7\n",
       "0     1    45   ron     1            1    r               r    r     3\n",
       "1     2    56   tom     4            4    t               t    z     3\n",
       "2     3    76   tim     9            9    t               t    z     3\n",
       "3     4    78   dan    16           16    d               d    z     3\n",
       "4     5    89  erik    25           25    e               e    z     4"
      ]
     },
     "execution_count": 8,
     "metadata": {},
     "output_type": "execute_result"
    }
   ],
   "source": [
    "df['col7'] = df['col3'].apply(len)\n",
    "df"
   ]
  },
  {
   "cell_type": "code",
   "execution_count": 9,
   "id": "611f88cd",
   "metadata": {},
   "outputs": [
    {
     "data": {
      "text/html": [
       "<div>\n",
       "<style scoped>\n",
       "    .dataframe tbody tr th:only-of-type {\n",
       "        vertical-align: middle;\n",
       "    }\n",
       "\n",
       "    .dataframe tbody tr th {\n",
       "        vertical-align: top;\n",
       "    }\n",
       "\n",
       "    .dataframe thead th {\n",
       "        text-align: right;\n",
       "    }\n",
       "</style>\n",
       "<table border=\"1\" class=\"dataframe\">\n",
       "  <thead>\n",
       "    <tr style=\"text-align: right;\">\n",
       "      <th></th>\n",
       "      <th>col1</th>\n",
       "      <th>col2</th>\n",
       "      <th>col3</th>\n",
       "      <th>col4</th>\n",
       "      <th>col1_square</th>\n",
       "      <th>col5</th>\n",
       "      <th>col3_first_char</th>\n",
       "      <th>col6</th>\n",
       "      <th>col7</th>\n",
       "      <th>col3_val_len</th>\n",
       "    </tr>\n",
       "  </thead>\n",
       "  <tbody>\n",
       "    <tr>\n",
       "      <th>0</th>\n",
       "      <td>1</td>\n",
       "      <td>45</td>\n",
       "      <td>ron</td>\n",
       "      <td>1</td>\n",
       "      <td>1</td>\n",
       "      <td>r</td>\n",
       "      <td>r</td>\n",
       "      <td>r</td>\n",
       "      <td>3</td>\n",
       "      <td>3</td>\n",
       "    </tr>\n",
       "    <tr>\n",
       "      <th>1</th>\n",
       "      <td>2</td>\n",
       "      <td>56</td>\n",
       "      <td>tom</td>\n",
       "      <td>4</td>\n",
       "      <td>4</td>\n",
       "      <td>t</td>\n",
       "      <td>t</td>\n",
       "      <td>z</td>\n",
       "      <td>3</td>\n",
       "      <td>3</td>\n",
       "    </tr>\n",
       "    <tr>\n",
       "      <th>2</th>\n",
       "      <td>3</td>\n",
       "      <td>76</td>\n",
       "      <td>tim</td>\n",
       "      <td>9</td>\n",
       "      <td>9</td>\n",
       "      <td>t</td>\n",
       "      <td>t</td>\n",
       "      <td>z</td>\n",
       "      <td>3</td>\n",
       "      <td>3</td>\n",
       "    </tr>\n",
       "    <tr>\n",
       "      <th>3</th>\n",
       "      <td>4</td>\n",
       "      <td>78</td>\n",
       "      <td>dan</td>\n",
       "      <td>16</td>\n",
       "      <td>16</td>\n",
       "      <td>d</td>\n",
       "      <td>d</td>\n",
       "      <td>z</td>\n",
       "      <td>3</td>\n",
       "      <td>3</td>\n",
       "    </tr>\n",
       "    <tr>\n",
       "      <th>4</th>\n",
       "      <td>5</td>\n",
       "      <td>89</td>\n",
       "      <td>erik</td>\n",
       "      <td>25</td>\n",
       "      <td>25</td>\n",
       "      <td>e</td>\n",
       "      <td>e</td>\n",
       "      <td>z</td>\n",
       "      <td>4</td>\n",
       "      <td>4</td>\n",
       "    </tr>\n",
       "  </tbody>\n",
       "</table>\n",
       "</div>"
      ],
      "text/plain": [
       "   col1  col2  col3  col4  col1_square col5 col3_first_char col6  col7  \\\n",
       "0     1    45   ron     1            1    r               r    r     3   \n",
       "1     2    56   tom     4            4    t               t    z     3   \n",
       "2     3    76   tim     9            9    t               t    z     3   \n",
       "3     4    78   dan    16           16    d               d    z     3   \n",
       "4     5    89  erik    25           25    e               e    z     4   \n",
       "\n",
       "   col3_val_len  \n",
       "0             3  \n",
       "1             3  \n",
       "2             3  \n",
       "3             3  \n",
       "4             4  "
      ]
     },
     "execution_count": 9,
     "metadata": {},
     "output_type": "execute_result"
    }
   ],
   "source": [
    "df = df.assign(col3_val_len=df.col3.apply(lambda x: len(x)))\n",
    "df"
   ]
  },
  {
   "cell_type": "code",
   "execution_count": 10,
   "id": "8bb14c12",
   "metadata": {},
   "outputs": [
    {
     "data": {
      "text/html": [
       "<div>\n",
       "<style scoped>\n",
       "    .dataframe tbody tr th:only-of-type {\n",
       "        vertical-align: middle;\n",
       "    }\n",
       "\n",
       "    .dataframe tbody tr th {\n",
       "        vertical-align: top;\n",
       "    }\n",
       "\n",
       "    .dataframe thead th {\n",
       "        text-align: right;\n",
       "    }\n",
       "</style>\n",
       "<table border=\"1\" class=\"dataframe\">\n",
       "  <thead>\n",
       "    <tr style=\"text-align: right;\">\n",
       "      <th></th>\n",
       "      <th>col1</th>\n",
       "      <th>col2</th>\n",
       "      <th>col3</th>\n",
       "      <th>col4</th>\n",
       "      <th>col1_square</th>\n",
       "      <th>col5</th>\n",
       "      <th>col3_first_char</th>\n",
       "      <th>col6</th>\n",
       "      <th>col7</th>\n",
       "      <th>col3_val_len</th>\n",
       "      <th>col8</th>\n",
       "    </tr>\n",
       "  </thead>\n",
       "  <tbody>\n",
       "    <tr>\n",
       "      <th>0</th>\n",
       "      <td>1</td>\n",
       "      <td>45</td>\n",
       "      <td>ron</td>\n",
       "      <td>1</td>\n",
       "      <td>1</td>\n",
       "      <td>r</td>\n",
       "      <td>r</td>\n",
       "      <td>r</td>\n",
       "      <td>3</td>\n",
       "      <td>3</td>\n",
       "      <td>3.806662</td>\n",
       "    </tr>\n",
       "    <tr>\n",
       "      <th>1</th>\n",
       "      <td>2</td>\n",
       "      <td>56</td>\n",
       "      <td>tom</td>\n",
       "      <td>4</td>\n",
       "      <td>4</td>\n",
       "      <td>t</td>\n",
       "      <td>t</td>\n",
       "      <td>z</td>\n",
       "      <td>3</td>\n",
       "      <td>3</td>\n",
       "      <td>4.025352</td>\n",
       "    </tr>\n",
       "    <tr>\n",
       "      <th>2</th>\n",
       "      <td>3</td>\n",
       "      <td>76</td>\n",
       "      <td>tim</td>\n",
       "      <td>9</td>\n",
       "      <td>9</td>\n",
       "      <td>t</td>\n",
       "      <td>t</td>\n",
       "      <td>z</td>\n",
       "      <td>3</td>\n",
       "      <td>3</td>\n",
       "      <td>4.330733</td>\n",
       "    </tr>\n",
       "    <tr>\n",
       "      <th>3</th>\n",
       "      <td>4</td>\n",
       "      <td>78</td>\n",
       "      <td>dan</td>\n",
       "      <td>16</td>\n",
       "      <td>16</td>\n",
       "      <td>d</td>\n",
       "      <td>d</td>\n",
       "      <td>z</td>\n",
       "      <td>3</td>\n",
       "      <td>3</td>\n",
       "      <td>4.356709</td>\n",
       "    </tr>\n",
       "    <tr>\n",
       "      <th>4</th>\n",
       "      <td>5</td>\n",
       "      <td>89</td>\n",
       "      <td>erik</td>\n",
       "      <td>25</td>\n",
       "      <td>25</td>\n",
       "      <td>e</td>\n",
       "      <td>e</td>\n",
       "      <td>z</td>\n",
       "      <td>4</td>\n",
       "      <td>4</td>\n",
       "      <td>4.488636</td>\n",
       "    </tr>\n",
       "  </tbody>\n",
       "</table>\n",
       "</div>"
      ],
      "text/plain": [
       "   col1  col2  col3  col4  col1_square col5 col3_first_char col6  col7  \\\n",
       "0     1    45   ron     1            1    r               r    r     3   \n",
       "1     2    56   tom     4            4    t               t    z     3   \n",
       "2     3    76   tim     9            9    t               t    z     3   \n",
       "3     4    78   dan    16           16    d               d    z     3   \n",
       "4     5    89  erik    25           25    e               e    z     4   \n",
       "\n",
       "   col3_val_len      col8  \n",
       "0             3  3.806662  \n",
       "1             3  4.025352  \n",
       "2             3  4.330733  \n",
       "3             3  4.356709  \n",
       "4             4  4.488636  "
      ]
     },
     "execution_count": 10,
     "metadata": {},
     "output_type": "execute_result"
    }
   ],
   "source": [
    "from math import log\n",
    "df['col8'] = df['col2'].apply(log)\n",
    "df"
   ]
  },
  {
   "cell_type": "code",
   "execution_count": 11,
   "id": "ddea8080",
   "metadata": {},
   "outputs": [],
   "source": [
    "import numpy as np"
   ]
  },
  {
   "cell_type": "code",
   "execution_count": 12,
   "id": "48f4bc65",
   "metadata": {},
   "outputs": [
    {
     "data": {
      "text/plain": [
       "list"
      ]
     },
     "execution_count": 12,
     "metadata": {},
     "output_type": "execute_result"
    }
   ],
   "source": [
    "my_list = ['bhanu', 1, 2, 3, 4]\n",
    "type(my_list)"
   ]
  },
  {
   "cell_type": "code",
   "execution_count": 13,
   "id": "59061a5c",
   "metadata": {},
   "outputs": [
    {
     "data": {
      "text/plain": [
       "array(['bhanu', '1', '2', '3', '4'], dtype='<U11')"
      ]
     },
     "execution_count": 13,
     "metadata": {},
     "output_type": "execute_result"
    }
   ],
   "source": [
    "my_array = np.array(my_list)\n",
    "my_array"
   ]
  },
  {
   "cell_type": "code",
   "execution_count": 14,
   "id": "b7ba6251",
   "metadata": {},
   "outputs": [
    {
     "data": {
      "text/plain": [
       "numpy.ndarray"
      ]
     },
     "execution_count": 14,
     "metadata": {},
     "output_type": "execute_result"
    }
   ],
   "source": [
    "type(my_array)"
   ]
  },
  {
   "cell_type": "code",
   "execution_count": 15,
   "id": "7bf90e1a",
   "metadata": {},
   "outputs": [
    {
     "data": {
      "text/plain": [
       "array([4., 5., 6., 7., 8.])"
      ]
     },
     "execution_count": 15,
     "metadata": {},
     "output_type": "execute_result"
    }
   ],
   "source": [
    "# up casting\n",
    "array_float = np.array([4,5,6,7,8.0])\n",
    "array_float"
   ]
  },
  {
   "cell_type": "code",
   "execution_count": 16,
   "id": "787a8388",
   "metadata": {},
   "outputs": [
    {
     "data": {
      "text/plain": [
       "6.0"
      ]
     },
     "execution_count": 16,
     "metadata": {},
     "output_type": "execute_result"
    }
   ],
   "source": [
    "array_float[2]"
   ]
  },
  {
   "cell_type": "code",
   "execution_count": 17,
   "id": "095342a2",
   "metadata": {},
   "outputs": [
    {
     "data": {
      "text/plain": [
       "array([[1, 2],\n",
       "       [3, 4]])"
      ]
     },
     "execution_count": 17,
     "metadata": {},
     "output_type": "execute_result"
    }
   ],
   "source": [
    "array_2d = np.array([[1,2],[3,4]])\n",
    "array_2d"
   ]
  },
  {
   "cell_type": "code",
   "execution_count": 18,
   "id": "1e5eb124",
   "metadata": {},
   "outputs": [
    {
     "data": {
      "text/plain": [
       "4"
      ]
     },
     "execution_count": 18,
     "metadata": {},
     "output_type": "execute_result"
    }
   ],
   "source": [
    "array_2d[1][1]"
   ]
  },
  {
   "cell_type": "code",
   "execution_count": 19,
   "id": "7ccd3f21",
   "metadata": {},
   "outputs": [
    {
     "data": {
      "text/plain": [
       "array([[1, 2, 3, 4]])"
      ]
     },
     "execution_count": 19,
     "metadata": {},
     "output_type": "execute_result"
    }
   ],
   "source": [
    "np.array([1,2,3,4], ndmin=2)"
   ]
  },
  {
   "cell_type": "code",
   "execution_count": 20,
   "id": "aad76031",
   "metadata": {},
   "outputs": [
    {
     "data": {
      "text/plain": [
       "array([[[1, 2, 3, 4]]])"
      ]
     },
     "execution_count": 20,
     "metadata": {},
     "output_type": "execute_result"
    }
   ],
   "source": [
    "np.array([1,2,3,4], ndmin=3)"
   ]
  },
  {
   "cell_type": "code",
   "execution_count": 21,
   "id": "2c949b2f",
   "metadata": {},
   "outputs": [
    {
     "data": {
      "text/plain": [
       "array([[[[1, 2, 3, 4]]]])"
      ]
     },
     "execution_count": 21,
     "metadata": {},
     "output_type": "execute_result"
    }
   ],
   "source": [
    "array_4d = np.array([1,2,3,4], ndmin=4)\n",
    "array_4d"
   ]
  },
  {
   "cell_type": "code",
   "execution_count": 22,
   "id": "6198a48e",
   "metadata": {},
   "outputs": [
    {
     "data": {
      "text/plain": [
       "4"
      ]
     },
     "execution_count": 22,
     "metadata": {},
     "output_type": "execute_result"
    }
   ],
   "source": [
    "array_4d[0][0][0][3]"
   ]
  },
  {
   "cell_type": "code",
   "execution_count": 23,
   "id": "fa213f58",
   "metadata": {},
   "outputs": [
    {
     "data": {
      "text/plain": [
       "array([1, 2, 3, 4, 5])"
      ]
     },
     "execution_count": 23,
     "metadata": {},
     "output_type": "execute_result"
    }
   ],
   "source": [
    "np.asarray([1,2,3,4,5])"
   ]
  },
  {
   "cell_type": "code",
   "execution_count": 24,
   "id": "5e63ca97",
   "metadata": {},
   "outputs": [
    {
     "data": {
      "text/plain": [
       "array([1, 2, 3, 4, 5])"
      ]
     },
     "execution_count": 24,
     "metadata": {},
     "output_type": "execute_result"
    }
   ],
   "source": [
    "np.asanyarray([1,2,3,4,5])"
   ]
  },
  {
   "cell_type": "code",
   "execution_count": 25,
   "id": "6be599f5",
   "metadata": {},
   "outputs": [
    {
     "data": {
      "text/plain": [
       "matrix([[1, 2, 3, 4, 5]])"
      ]
     },
     "execution_count": 25,
     "metadata": {},
     "output_type": "execute_result"
    }
   ],
   "source": [
    "np.mat([1,2,3,4,5])"
   ]
  },
  {
   "cell_type": "code",
   "execution_count": 26,
   "id": "27055f1b",
   "metadata": {},
   "outputs": [
    {
     "data": {
      "text/plain": [
       "matrix([[1, 2, 3, 4, 5]])"
      ]
     },
     "execution_count": 26,
     "metadata": {},
     "output_type": "execute_result"
    }
   ],
   "source": [
    "# \"asanyarray()\" observe if something is available as array in input, \n",
    "# if yes than return existing array else convert the input into array\n",
    "np.asanyarray(np.mat([1,2,3,4,5]))"
   ]
  },
  {
   "cell_type": "code",
   "execution_count": 27,
   "id": "ea141638",
   "metadata": {},
   "outputs": [
    {
     "data": {
      "text/plain": [
       "array([[ True, False, False],\n",
       "       [False,  True, False],\n",
       "       [False, False,  True]])"
      ]
     },
     "execution_count": 27,
     "metadata": {},
     "output_type": "execute_result"
    }
   ],
   "source": [
    "np.fromfunction(lambda i,j: i==j, shape=(3,3))"
   ]
  },
  {
   "cell_type": "code",
   "execution_count": 28,
   "id": "519ed8a0",
   "metadata": {},
   "outputs": [
    {
     "data": {
      "text/plain": [
       "array([[0., 0., 0., 0.],\n",
       "       [0., 1., 2., 3.],\n",
       "       [0., 2., 4., 6.],\n",
       "       [0., 3., 6., 9.]])"
      ]
     },
     "execution_count": 28,
     "metadata": {},
     "output_type": "execute_result"
    }
   ],
   "source": [
    "np.fromfunction(lambda i,j: i*j, shape=(4,4))"
   ]
  },
  {
   "cell_type": "code",
   "execution_count": 29,
   "id": "04dbfb1a",
   "metadata": {},
   "outputs": [
    {
     "data": {
      "text/plain": [
       "array([[0, 0, 0, 0],\n",
       "       [0, 1, 2, 3],\n",
       "       [0, 2, 4, 6],\n",
       "       [0, 3, 6, 9]])"
      ]
     },
     "execution_count": 29,
     "metadata": {},
     "output_type": "execute_result"
    }
   ],
   "source": [
    "np.fromfunction(lambda i,j: i*j, shape=(4,4), dtype=int)"
   ]
  },
  {
   "cell_type": "code",
   "execution_count": 30,
   "id": "096f2dc5",
   "metadata": {},
   "outputs": [
    {
     "data": {
      "text/plain": [
       "matrix([[0, 0, 0, 0],\n",
       "        [0, 1, 2, 3],\n",
       "        [0, 2, 4, 6],\n",
       "        [0, 3, 6, 9]])"
      ]
     },
     "execution_count": 30,
     "metadata": {},
     "output_type": "execute_result"
    }
   ],
   "source": [
    "np.mat(np.fromfunction(lambda i,j: i*j, shape=(4,4), dtype=int))"
   ]
  },
  {
   "cell_type": "code",
   "execution_count": 31,
   "id": "24c91470",
   "metadata": {},
   "outputs": [],
   "source": [
    "# below code will give error\n",
    "# np.mat(np.fromfunction(lambda i,j: i*j, shape=(4,4,4), dtype=int))"
   ]
  },
  {
   "cell_type": "code",
   "execution_count": 32,
   "id": "2560b1ec",
   "metadata": {},
   "outputs": [],
   "source": [
    "# below code will give error\n",
    "# np.mat(np.fromfunction(lambda i,j,k: i*j*k, shape=(4,4,4), dtype=int))"
   ]
  },
  {
   "cell_type": "code",
   "execution_count": 33,
   "id": "7702ff0d",
   "metadata": {},
   "outputs": [
    {
     "data": {
      "text/plain": [
       "array([[[0, 0],\n",
       "        [0, 0],\n",
       "        [0, 0]],\n",
       "\n",
       "       [[0, 0],\n",
       "        [0, 1],\n",
       "        [0, 2]],\n",
       "\n",
       "       [[0, 0],\n",
       "        [0, 2],\n",
       "        [0, 4]],\n",
       "\n",
       "       [[0, 0],\n",
       "        [0, 3],\n",
       "        [0, 6]]])"
      ]
     },
     "execution_count": 33,
     "metadata": {},
     "output_type": "execute_result"
    }
   ],
   "source": [
    "# create 3d matrix (4,3,2) = 4 matrix of dimension 3x2\n",
    "np.fromfunction(lambda i,j,k: i*j*k, shape=(4,3,2), dtype=int)"
   ]
  },
  {
   "cell_type": "markdown",
   "id": "0e57873e",
   "metadata": {},
   "source": [
    "<img src=\"images\\3d-np-array.png\" alt=\"matrix visualization\" style=\"width:400px; float:left; margin-right:8px\"/>"
   ]
  },
  {
   "cell_type": "code",
   "execution_count": 34,
   "id": "e04afb12",
   "metadata": {},
   "outputs": [
    {
     "data": {
      "text/plain": [
       "array([[[[0, 0],\n",
       "         [0, 0]],\n",
       "\n",
       "        [[0, 0],\n",
       "         [0, 0]],\n",
       "\n",
       "        [[0, 0],\n",
       "         [0, 0]]],\n",
       "\n",
       "\n",
       "       [[[0, 0],\n",
       "         [0, 0]],\n",
       "\n",
       "        [[0, 0],\n",
       "         [0, 1]],\n",
       "\n",
       "        [[0, 0],\n",
       "         [0, 2]]],\n",
       "\n",
       "\n",
       "       [[[0, 0],\n",
       "         [0, 0]],\n",
       "\n",
       "        [[0, 0],\n",
       "         [0, 2]],\n",
       "\n",
       "        [[0, 0],\n",
       "         [0, 4]]]])"
      ]
     },
     "execution_count": 34,
     "metadata": {},
     "output_type": "execute_result"
    }
   ],
   "source": [
    "np.fromfunction(lambda i,j,k,l: i*j*k*l, shape=(3,3,2,2), dtype=int)"
   ]
  },
  {
   "cell_type": "code",
   "execution_count": 35,
   "id": "9ce8f172",
   "metadata": {},
   "outputs": [
    {
     "data": {
      "text/plain": [
       "array([[[0, 0],\n",
       "        [0, 0],\n",
       "        [0, 0]],\n",
       "\n",
       "       [[0, 0],\n",
       "        [0, 1],\n",
       "        [0, 2]],\n",
       "\n",
       "       [[0, 0],\n",
       "        [0, 2],\n",
       "        [0, 4]],\n",
       "\n",
       "       [[0, 0],\n",
       "        [0, 3],\n",
       "        [0, 6]]])"
      ]
     },
     "execution_count": 35,
     "metadata": {},
     "output_type": "execute_result"
    }
   ],
   "source": [
    "array_3d = np.fromfunction(lambda i,j,k: i*j*k, shape=(4,3,2), dtype=int)\n",
    "array_3d"
   ]
  },
  {
   "cell_type": "code",
   "execution_count": 36,
   "id": "8e5d957e",
   "metadata": {},
   "outputs": [
    {
     "data": {
      "text/plain": [
       "3"
      ]
     },
     "execution_count": 36,
     "metadata": {},
     "output_type": "execute_result"
    }
   ],
   "source": [
    "# Check array dimension\n",
    "array_3d.ndim"
   ]
  },
  {
   "cell_type": "code",
   "execution_count": 37,
   "id": "2ff06330",
   "metadata": {},
   "outputs": [
    {
     "data": {
      "text/plain": [
       "24"
      ]
     },
     "execution_count": 37,
     "metadata": {},
     "output_type": "execute_result"
    }
   ],
   "source": [
    "# Total number of elements (4,3,2) = 4x3x2 = 24\n",
    "array_3d.size"
   ]
  },
  {
   "cell_type": "code",
   "execution_count": 38,
   "id": "cf7a4244",
   "metadata": {},
   "outputs": [
    {
     "data": {
      "text/plain": [
       "(4, 3, 2)"
      ]
     },
     "execution_count": 38,
     "metadata": {},
     "output_type": "execute_result"
    }
   ],
   "source": [
    "# Check shape of the array\n",
    "array_3d.shape"
   ]
  },
  {
   "cell_type": "code",
   "execution_count": 39,
   "id": "5e856ac3",
   "metadata": {},
   "outputs": [
    {
     "data": {
      "text/plain": [
       "dtype('int32')"
      ]
     },
     "execution_count": 39,
     "metadata": {},
     "output_type": "execute_result"
    }
   ],
   "source": [
    "# Check datatype of the array\n",
    "array_3d.dtype"
   ]
  },
  {
   "cell_type": "code",
   "execution_count": 40,
   "id": "82a85ac1",
   "metadata": {},
   "outputs": [
    {
     "data": {
      "text/html": [
       "<div>\n",
       "<style scoped>\n",
       "    .dataframe tbody tr th:only-of-type {\n",
       "        vertical-align: middle;\n",
       "    }\n",
       "\n",
       "    .dataframe tbody tr th {\n",
       "        vertical-align: top;\n",
       "    }\n",
       "\n",
       "    .dataframe thead th {\n",
       "        text-align: right;\n",
       "    }\n",
       "</style>\n",
       "<table border=\"1\" class=\"dataframe\">\n",
       "  <thead>\n",
       "    <tr style=\"text-align: right;\">\n",
       "      <th></th>\n",
       "      <th>0</th>\n",
       "      <th>1</th>\n",
       "    </tr>\n",
       "  </thead>\n",
       "  <tbody>\n",
       "    <tr>\n",
       "      <th>0</th>\n",
       "      <td>0</td>\n",
       "      <td>0</td>\n",
       "    </tr>\n",
       "    <tr>\n",
       "      <th>1</th>\n",
       "      <td>0</td>\n",
       "      <td>1</td>\n",
       "    </tr>\n",
       "    <tr>\n",
       "      <th>2</th>\n",
       "      <td>0</td>\n",
       "      <td>2</td>\n",
       "    </tr>\n",
       "    <tr>\n",
       "      <th>3</th>\n",
       "      <td>0</td>\n",
       "      <td>3</td>\n",
       "    </tr>\n",
       "  </tbody>\n",
       "</table>\n",
       "</div>"
      ],
      "text/plain": [
       "   0  1\n",
       "0  0  0\n",
       "1  0  1\n",
       "2  0  2\n",
       "3  0  3"
      ]
     },
     "execution_count": 40,
     "metadata": {},
     "output_type": "execute_result"
    }
   ],
   "source": [
    "# Convert array into dataframe\n",
    "pd.DataFrame(np.fromfunction(lambda i,j: i*j, shape=(4,2), dtype=int))"
   ]
  },
  {
   "cell_type": "code",
   "execution_count": 41,
   "id": "1acedd97",
   "metadata": {},
   "outputs": [],
   "source": [
    "# below code will give error\n",
    "# pd.DataFrame(array_3d)"
   ]
  },
  {
   "cell_type": "code",
   "execution_count": null,
   "id": "ac734175",
   "metadata": {},
   "outputs": [],
   "source": []
  },
  {
   "cell_type": "code",
   "execution_count": 42,
   "id": "7147274b",
   "metadata": {},
   "outputs": [
    {
     "data": {
      "text/plain": [
       "array([[0.49042212, 0.57990572, 0.88227453, 0.59586947],\n",
       "       [0.21501112, 0.41352047, 0.1913203 , 0.53386495],\n",
       "       [0.14172867, 0.71561635, 0.63415678, 0.1785741 ],\n",
       "       [0.74802744, 0.44475369, 0.08871461, 0.77062225],\n",
       "       [0.01461946, 0.15728618, 0.56706442, 0.13481373],\n",
       "       [0.33113221, 0.46636189, 0.62013401, 0.6286667 ],\n",
       "       [0.90791417, 0.97531191, 0.90855809, 0.0521718 ],\n",
       "       [0.41251303, 0.89982042, 0.01621316, 0.62833125],\n",
       "       [0.16921947, 0.69939824, 0.31418745, 0.95660127],\n",
       "       [0.11997695, 0.92865953, 0.16978963, 0.75733301],\n",
       "       [0.92747959, 0.45840518, 0.39714379, 0.75497325],\n",
       "       [0.89648233, 0.72100176, 0.44753073, 0.5707591 ],\n",
       "       [0.2861753 , 0.13832925, 0.58058973, 0.23318092],\n",
       "       [0.44570239, 0.41174241, 0.2043565 , 0.51161094],\n",
       "       [0.85275459, 0.05735498, 0.91179646, 0.7398426 ],\n",
       "       [0.25213954, 0.07854334, 0.34906466, 0.90254918],\n",
       "       [0.93066649, 0.41248428, 0.81108082, 0.10143413],\n",
       "       [0.12855759, 0.4514527 , 0.47355061, 0.08926605],\n",
       "       [0.42628081, 0.45317541, 0.05678807, 0.9500625 ],\n",
       "       [0.75693864, 0.2613269 , 0.4194193 , 0.82383887],\n",
       "       [0.97415237, 0.0567678 , 0.00886516, 0.46655772],\n",
       "       [0.82863513, 0.71543154, 0.853504  , 0.78448963],\n",
       "       [0.48349557, 0.54308717, 0.04692497, 0.38606374],\n",
       "       [0.94853298, 0.21861973, 0.8456847 , 0.01970086],\n",
       "       [0.98731381, 0.90291036, 0.8821628 , 0.72723606],\n",
       "       [0.59477212, 0.57348366, 0.66276974, 0.61608363],\n",
       "       [0.05132235, 0.14734111, 0.2096652 , 0.50471704],\n",
       "       [0.11673365, 0.62587025, 0.05713791, 0.22830942],\n",
       "       [0.72488711, 0.86303461, 0.05666661, 0.28655846],\n",
       "       [0.04379288, 0.95662372, 0.08643134, 0.68502121],\n",
       "       [0.42431252, 0.59535807, 0.04450967, 0.68250792],\n",
       "       [0.86888813, 0.46238825, 0.10492045, 0.35405606],\n",
       "       [0.70332757, 0.43482507, 0.74273511, 0.72408209],\n",
       "       [0.18503307, 0.54410461, 0.55572424, 0.93944709],\n",
       "       [0.10863282, 0.80347687, 0.43722812, 0.81442096],\n",
       "       [0.4891268 , 0.68129659, 0.38944761, 0.59902162],\n",
       "       [0.41600339, 0.66734524, 0.12993392, 0.91846676],\n",
       "       [0.67740857, 0.1419941 , 0.36360302, 0.55968787],\n",
       "       [0.16788614, 0.97693591, 0.30552657, 0.17216707],\n",
       "       [0.56100466, 0.99912382, 0.70915124, 0.35852048],\n",
       "       [0.99919615, 0.96685861, 0.25992025, 0.59177965],\n",
       "       [0.65484827, 0.43191211, 0.38832295, 0.20584892],\n",
       "       [0.45515944, 0.08515985, 0.99487107, 0.70548722],\n",
       "       [0.25038252, 0.50614472, 0.92788505, 0.16267081],\n",
       "       [0.23825742, 0.57562537, 0.29211029, 0.79476919],\n",
       "       [0.17041244, 0.92366702, 0.51551236, 0.89874433],\n",
       "       [0.87280272, 0.03977974, 0.49516198, 0.82400431],\n",
       "       [0.21688474, 0.86141574, 0.74377904, 0.93020274],\n",
       "       [0.05167355, 0.17892621, 0.71922333, 0.71981435],\n",
       "       [0.26705086, 0.77710751, 0.9425726 , 0.25112979],\n",
       "       [0.48267219, 0.85706083, 0.96765499, 0.37379683],\n",
       "       [0.53072457, 0.83402428, 0.65715873, 0.42699885],\n",
       "       [0.53145335, 0.74319265, 0.20935787, 0.91689568],\n",
       "       [0.48820015, 0.12843292, 0.55489466, 0.63803945],\n",
       "       [0.22808176, 0.41617105, 0.29185704, 0.04204514],\n",
       "       [0.29207853, 0.72255398, 0.2504265 , 0.90032105],\n",
       "       [0.09085857, 0.46875549, 0.54690338, 0.54316435],\n",
       "       [0.24631832, 0.2592823 , 0.78486983, 0.5069198 ],\n",
       "       [0.98724448, 0.78501214, 0.00801796, 0.1118045 ],\n",
       "       [0.77445486, 0.33270618, 0.09720766, 0.46545038],\n",
       "       [0.85008334, 0.84418552, 0.04310305, 0.19384004],\n",
       "       [0.50082854, 0.85200328, 0.88834169, 0.81781047],\n",
       "       [0.66928224, 0.56766613, 0.01640414, 0.55450057],\n",
       "       [0.90953253, 0.83878783, 0.63085398, 0.57690093],\n",
       "       [0.68509543, 0.01216728, 0.39006212, 0.04900876],\n",
       "       [0.94178758, 0.85721427, 0.90940913, 0.3101514 ],\n",
       "       [0.92444317, 0.15135165, 0.04506165, 0.70471144],\n",
       "       [0.01463966, 0.00727584, 0.95511705, 0.17776034],\n",
       "       [0.90637856, 0.24982621, 0.80267714, 0.82953292],\n",
       "       [0.69725554, 0.40423728, 0.20438641, 0.25456898],\n",
       "       [0.84527558, 0.35563537, 0.04219798, 0.78005311],\n",
       "       [0.54272996, 0.02549851, 0.35584352, 0.23139078],\n",
       "       [0.42157539, 0.96172545, 0.00839367, 0.80316406],\n",
       "       [0.63965856, 0.78013941, 0.74034087, 0.10935978],\n",
       "       [0.6129646 , 0.3024831 , 0.99006285, 0.81889674],\n",
       "       [0.43684497, 0.08112749, 0.02778476, 0.7792431 ],\n",
       "       [0.54802579, 0.97455633, 0.82195738, 0.02436723],\n",
       "       [0.43153704, 0.09284136, 0.09369682, 0.55239636],\n",
       "       [0.02436171, 0.93693652, 0.21151073, 0.53569478],\n",
       "       [0.71846042, 0.02253343, 0.72421535, 0.81280094],\n",
       "       [0.80668927, 0.49000999, 0.74483086, 0.26592507],\n",
       "       [0.39503388, 0.08918395, 0.53747893, 0.80108969],\n",
       "       [0.91025101, 0.50666042, 0.3325866 , 0.59850003],\n",
       "       [0.69164229, 0.57807649, 0.51134153, 0.64229052],\n",
       "       [0.51597676, 0.81255423, 0.30066547, 0.76476129],\n",
       "       [0.05953675, 0.45620252, 0.02388714, 0.07551989],\n",
       "       [0.70746407, 0.49756871, 0.3549996 , 0.8043745 ],\n",
       "       [0.35425896, 0.31486319, 0.64414007, 0.98148033],\n",
       "       [0.24846128, 0.85178111, 0.98544728, 0.8539143 ],\n",
       "       [0.32491914, 0.66803887, 0.52477655, 0.13492403],\n",
       "       [0.41102163, 0.36815584, 0.45978911, 0.00698204],\n",
       "       [0.09714061, 0.3711918 , 0.30954375, 0.9242059 ],\n",
       "       [0.78263629, 0.07959352, 0.6182674 , 0.24823475],\n",
       "       [0.4546995 , 0.50335875, 0.86092201, 0.94963187],\n",
       "       [0.21045662, 0.11301202, 0.40369643, 0.64523124],\n",
       "       [0.21691972, 0.67979584, 0.56340537, 0.8330288 ],\n",
       "       [0.40101863, 0.73139498, 0.61335384, 0.80145265],\n",
       "       [0.13012296, 0.2490864 , 0.17231676, 0.74920339],\n",
       "       [0.41929185, 0.91267996, 0.91903915, 0.2016991 ],\n",
       "       [0.27717922, 0.61702805, 0.485056  , 0.94719404]])"
      ]
     },
     "execution_count": 42,
     "metadata": {},
     "output_type": "execute_result"
    }
   ],
   "source": [
    "# Generate 100x4 records\n",
    "np.random.rand(100,4)"
   ]
  },
  {
   "cell_type": "code",
   "execution_count": 43,
   "id": "cf1ecdb2",
   "metadata": {},
   "outputs": [
    {
     "data": {
      "text/plain": [
       "17"
      ]
     },
     "execution_count": 43,
     "metadata": {},
     "output_type": "execute_result"
    }
   ],
   "source": [
    "# Generate random integer value between 4 and 50\n",
    "np.random.randint(4,50)"
   ]
  },
  {
   "cell_type": "code",
   "execution_count": 44,
   "id": "37579f61",
   "metadata": {},
   "outputs": [
    {
     "data": {
      "text/plain": [
       "array([[-1.10537431,  0.50977285,  1.08536963, -0.22532773,  1.63961573],\n",
       "       [-1.13128342,  0.23038656,  0.72270684,  1.63466773, -0.26307916],\n",
       "       [ 0.2156364 ,  0.26982461,  0.08200849,  0.18606084, -0.3002921 ],\n",
       "       [ 1.48641425, -0.29529297, -2.80861235,  0.52802027,  2.14738362]])"
      ]
     },
     "execution_count": 44,
     "metadata": {},
     "output_type": "execute_result"
    }
   ],
   "source": [
    "# Generate normally distributed random numbers\n",
    "np.random.randn(4,5)"
   ]
  },
  {
   "cell_type": "code",
   "execution_count": 45,
   "id": "65f81036",
   "metadata": {},
   "outputs": [
    {
     "data": {
      "text/html": [
       "<div>\n",
       "<style scoped>\n",
       "    .dataframe tbody tr th:only-of-type {\n",
       "        vertical-align: middle;\n",
       "    }\n",
       "\n",
       "    .dataframe tbody tr th {\n",
       "        vertical-align: top;\n",
       "    }\n",
       "\n",
       "    .dataframe thead th {\n",
       "        text-align: right;\n",
       "    }\n",
       "</style>\n",
       "<table border=\"1\" class=\"dataframe\">\n",
       "  <thead>\n",
       "    <tr style=\"text-align: right;\">\n",
       "      <th></th>\n",
       "      <th>0</th>\n",
       "      <th>1</th>\n",
       "      <th>2</th>\n",
       "      <th>3</th>\n",
       "      <th>4</th>\n",
       "    </tr>\n",
       "  </thead>\n",
       "  <tbody>\n",
       "    <tr>\n",
       "      <th>0</th>\n",
       "      <td>-0.014145</td>\n",
       "      <td>-0.729267</td>\n",
       "      <td>1.147629</td>\n",
       "      <td>0.841468</td>\n",
       "      <td>1.053371</td>\n",
       "    </tr>\n",
       "    <tr>\n",
       "      <th>1</th>\n",
       "      <td>1.055936</td>\n",
       "      <td>-0.483512</td>\n",
       "      <td>1.526605</td>\n",
       "      <td>-0.375798</td>\n",
       "      <td>-0.885510</td>\n",
       "    </tr>\n",
       "    <tr>\n",
       "      <th>2</th>\n",
       "      <td>0.197560</td>\n",
       "      <td>-1.376260</td>\n",
       "      <td>-0.187762</td>\n",
       "      <td>-2.048645</td>\n",
       "      <td>0.316523</td>\n",
       "    </tr>\n",
       "    <tr>\n",
       "      <th>3</th>\n",
       "      <td>2.538166</td>\n",
       "      <td>-0.393592</td>\n",
       "      <td>-0.113719</td>\n",
       "      <td>-0.515718</td>\n",
       "      <td>-0.084883</td>\n",
       "    </tr>\n",
       "  </tbody>\n",
       "</table>\n",
       "</div>"
      ],
      "text/plain": [
       "          0         1         2         3         4\n",
       "0 -0.014145 -0.729267  1.147629  0.841468  1.053371\n",
       "1  1.055936 -0.483512  1.526605 -0.375798 -0.885510\n",
       "2  0.197560 -1.376260 -0.187762 -2.048645  0.316523\n",
       "3  2.538166 -0.393592 -0.113719 -0.515718 -0.084883"
      ]
     },
     "execution_count": 45,
     "metadata": {},
     "output_type": "execute_result"
    }
   ],
   "source": [
    "# Create dataframe for normally distributed numbers\n",
    "pd.DataFrame(np.random.randn(4,5))"
   ]
  },
  {
   "cell_type": "code",
   "execution_count": 46,
   "id": "7bcb6d25",
   "metadata": {},
   "outputs": [
    {
     "name": "stderr",
     "output_type": "stream",
     "text": [
      "C:\\Users\\thaku\\anaconda3\\lib\\site-packages\\seaborn\\distributions.py:2619: FutureWarning: `distplot` is a deprecated function and will be removed in a future version. Please adapt your code to use either `displot` (a figure-level function with similar flexibility) or `histplot` (an axes-level function for histograms).\n",
      "  warnings.warn(msg, FutureWarning)\n"
     ]
    },
    {
     "data": {
      "image/png": "[encoded data removed]",
      "text/plain": [
       "<Figure size 432x288 with 1 Axes>"
      ]
     },
     "metadata": {
      "needs_background": "light"
     },
     "output_type": "display_data"
    }
   ],
   "source": [
    "import seaborn as sns\n",
    "sns.distplot(pd.DataFrame(np.random.randn(4,5)));"
   ]
  },
  {
   "cell_type": "code",
   "execution_count": 47,
   "id": "e7dab6b4",
   "metadata": {},
   "outputs": [
    {
     "data": {
      "text/plain": [
       "array([[0, 0],\n",
       "       [0, 0],\n",
       "       [0, 0],\n",
       "       [0, 0],\n",
       "       [0, 1],\n",
       "       [0, 2],\n",
       "       [0, 0],\n",
       "       [0, 2],\n",
       "       [0, 4],\n",
       "       [0, 0],\n",
       "       [0, 3],\n",
       "       [0, 6]])"
      ]
     },
     "execution_count": 47,
     "metadata": {},
     "output_type": "execute_result"
    }
   ],
   "source": [
    "array_3d.reshape(12,2)"
   ]
  },
  {
   "cell_type": "code",
   "execution_count": 48,
   "id": "71b253c3",
   "metadata": {},
   "outputs": [
    {
     "data": {
      "text/plain": [
       "array([[0, 0, 0, 0],\n",
       "       [0, 0, 0, 0],\n",
       "       [0, 1, 0, 2],\n",
       "       [0, 0, 0, 2],\n",
       "       [0, 4, 0, 0],\n",
       "       [0, 3, 0, 6]])"
      ]
     },
     "execution_count": 48,
     "metadata": {},
     "output_type": "execute_result"
    }
   ],
   "source": [
    "array_3d.reshape(6,4)"
   ]
  },
  {
   "cell_type": "code",
   "execution_count": 49,
   "id": "df0cb36e",
   "metadata": {},
   "outputs": [
    {
     "data": {
      "text/plain": [
       "array([[0, 0, 0, 0, 0, 0, 0, 0, 0, 1, 0, 2, 0, 0, 0, 2, 0, 4, 0, 0, 0, 3,\n",
       "        0, 6]])"
      ]
     },
     "execution_count": 49,
     "metadata": {},
     "output_type": "execute_result"
    }
   ],
   "source": [
    "array_3d.reshape(1,24)"
   ]
  },
  {
   "cell_type": "code",
   "execution_count": 50,
   "id": "3ef54520",
   "metadata": {},
   "outputs": [
    {
     "data": {
      "text/plain": [
       "array([[0, 0, 0],\n",
       "       [0, 0, 0],\n",
       "       [0, 0, 0],\n",
       "       [1, 0, 2],\n",
       "       [0, 0, 0],\n",
       "       [2, 0, 4],\n",
       "       [0, 0, 0],\n",
       "       [3, 0, 6]])"
      ]
     },
     "execution_count": 50,
     "metadata": {},
     "output_type": "execute_result"
    }
   ],
   "source": [
    "array_3d.reshape(8,3)"
   ]
  },
  {
   "cell_type": "code",
   "execution_count": 51,
   "id": "b9c28490",
   "metadata": {},
   "outputs": [
    {
     "data": {
      "text/plain": [
       "array([[0, 0, 0, 0, 0, 0, 0, 0],\n",
       "       [0, 1, 0, 2, 0, 0, 0, 2],\n",
       "       [0, 4, 0, 0, 0, 3, 0, 6]])"
      ]
     },
     "execution_count": 51,
     "metadata": {},
     "output_type": "execute_result"
    }
   ],
   "source": [
    "array_3d.reshape(3,8)"
   ]
  },
  {
   "cell_type": "code",
   "execution_count": 52,
   "id": "321f503a",
   "metadata": {},
   "outputs": [
    {
     "data": {
      "text/html": [
       "<div>\n",
       "<style scoped>\n",
       "    .dataframe tbody tr th:only-of-type {\n",
       "        vertical-align: middle;\n",
       "    }\n",
       "\n",
       "    .dataframe tbody tr th {\n",
       "        vertical-align: top;\n",
       "    }\n",
       "\n",
       "    .dataframe thead th {\n",
       "        text-align: right;\n",
       "    }\n",
       "</style>\n",
       "<table border=\"1\" class=\"dataframe\">\n",
       "  <thead>\n",
       "    <tr style=\"text-align: right;\">\n",
       "      <th></th>\n",
       "      <th>0</th>\n",
       "      <th>1</th>\n",
       "      <th>2</th>\n",
       "    </tr>\n",
       "  </thead>\n",
       "  <tbody>\n",
       "    <tr>\n",
       "      <th>0</th>\n",
       "      <td>0</td>\n",
       "      <td>0</td>\n",
       "      <td>0</td>\n",
       "    </tr>\n",
       "    <tr>\n",
       "      <th>1</th>\n",
       "      <td>0</td>\n",
       "      <td>0</td>\n",
       "      <td>0</td>\n",
       "    </tr>\n",
       "    <tr>\n",
       "      <th>2</th>\n",
       "      <td>0</td>\n",
       "      <td>0</td>\n",
       "      <td>0</td>\n",
       "    </tr>\n",
       "    <tr>\n",
       "      <th>3</th>\n",
       "      <td>1</td>\n",
       "      <td>0</td>\n",
       "      <td>2</td>\n",
       "    </tr>\n",
       "    <tr>\n",
       "      <th>4</th>\n",
       "      <td>0</td>\n",
       "      <td>0</td>\n",
       "      <td>0</td>\n",
       "    </tr>\n",
       "    <tr>\n",
       "      <th>5</th>\n",
       "      <td>2</td>\n",
       "      <td>0</td>\n",
       "      <td>4</td>\n",
       "    </tr>\n",
       "    <tr>\n",
       "      <th>6</th>\n",
       "      <td>0</td>\n",
       "      <td>0</td>\n",
       "      <td>0</td>\n",
       "    </tr>\n",
       "    <tr>\n",
       "      <th>7</th>\n",
       "      <td>3</td>\n",
       "      <td>0</td>\n",
       "      <td>6</td>\n",
       "    </tr>\n",
       "  </tbody>\n",
       "</table>\n",
       "</div>"
      ],
      "text/plain": [
       "   0  1  2\n",
       "0  0  0  0\n",
       "1  0  0  0\n",
       "2  0  0  0\n",
       "3  1  0  2\n",
       "4  0  0  0\n",
       "5  2  0  4\n",
       "6  0  0  0\n",
       "7  3  0  6"
      ]
     },
     "execution_count": 52,
     "metadata": {},
     "output_type": "execute_result"
    }
   ],
   "source": [
    "# Convert reshaped array into dataframe\n",
    "pd.DataFrame(array_3d.reshape(8,3))"
   ]
  },
  {
   "cell_type": "code",
   "execution_count": 53,
   "id": "4debce18",
   "metadata": {},
   "outputs": [
    {
     "data": {
      "text/plain": [
       "array([[[[0, 0, 0]],\n",
       "\n",
       "        [[0, 0, 0]]],\n",
       "\n",
       "\n",
       "       [[[0, 0, 0]],\n",
       "\n",
       "        [[1, 0, 2]]],\n",
       "\n",
       "\n",
       "       [[[0, 0, 0]],\n",
       "\n",
       "        [[2, 0, 4]]],\n",
       "\n",
       "\n",
       "       [[[0, 0, 0]],\n",
       "\n",
       "        [[3, 0, 6]]]])"
      ]
     },
     "execution_count": 53,
     "metadata": {},
     "output_type": "execute_result"
    }
   ],
   "source": [
    "# Convert 3d to 4d\n",
    "array_3d.reshape(4,2,1,3)"
   ]
  },
  {
   "cell_type": "code",
   "execution_count": 54,
   "id": "67ecd139",
   "metadata": {},
   "outputs": [
    {
     "data": {
      "text/plain": [
       "array([[[[[0],\n",
       "          [0],\n",
       "          [0]]],\n",
       "\n",
       "\n",
       "        [[[0],\n",
       "          [0],\n",
       "          [0]]]],\n",
       "\n",
       "\n",
       "\n",
       "       [[[[0],\n",
       "          [0],\n",
       "          [0]]],\n",
       "\n",
       "\n",
       "        [[[1],\n",
       "          [0],\n",
       "          [2]]]],\n",
       "\n",
       "\n",
       "\n",
       "       [[[[0],\n",
       "          [0],\n",
       "          [0]]],\n",
       "\n",
       "\n",
       "        [[[2],\n",
       "          [0],\n",
       "          [4]]]],\n",
       "\n",
       "\n",
       "\n",
       "       [[[[0],\n",
       "          [0],\n",
       "          [0]]],\n",
       "\n",
       "\n",
       "        [[[3],\n",
       "          [0],\n",
       "          [6]]]]])"
      ]
     },
     "execution_count": 54,
     "metadata": {},
     "output_type": "execute_result"
    }
   ],
   "source": [
    "# Convert 3d to 5d\n",
    "array_3d.reshape(4,2,1,3,1)"
   ]
  },
  {
   "cell_type": "code",
   "execution_count": 55,
   "id": "4afaea05",
   "metadata": {},
   "outputs": [
    {
     "data": {
      "text/plain": [
       "array([[0, 0, 0, 0, 0, 0],\n",
       "       [0, 0, 0, 1, 0, 2],\n",
       "       [0, 0, 0, 2, 0, 4],\n",
       "       [0, 0, 0, 3, 0, 6]])"
      ]
     },
     "execution_count": 55,
     "metadata": {},
     "output_type": "execute_result"
    }
   ],
   "source": [
    "# -1 means compute automatically compatible remaining dimension, -1 = 6\n",
    "array_3d.reshape(4,-1)"
   ]
  },
  {
   "cell_type": "code",
   "execution_count": 56,
   "id": "43a2b3d8",
   "metadata": {},
   "outputs": [],
   "source": [
    "# Below code will give error\n",
    "# array_3d.reshape(5,-1)"
   ]
  },
  {
   "cell_type": "code",
   "execution_count": 57,
   "id": "34236719",
   "metadata": {},
   "outputs": [
    {
     "data": {
      "text/plain": [
       "array([[0, 0, 0, 0, 0, 0, 0, 0, 0, 1, 0, 2],\n",
       "       [0, 0, 0, 2, 0, 4, 0, 0, 0, 3, 0, 6]])"
      ]
     },
     "execution_count": 57,
     "metadata": {},
     "output_type": "execute_result"
    }
   ],
   "source": [
    "# -1 = 12\n",
    "array_3d.reshape(2,-1)"
   ]
  },
  {
   "cell_type": "code",
   "execution_count": 58,
   "id": "ab7a489e",
   "metadata": {},
   "outputs": [
    {
     "data": {
      "text/plain": [
       "array([[0, 0, 0, 0, 0, 0, 0, 0, 0, 1, 0, 2],\n",
       "       [0, 0, 0, 2, 0, 4, 0, 0, 0, 3, 0, 6]])"
      ]
     },
     "execution_count": 58,
     "metadata": {},
     "output_type": "execute_result"
    }
   ],
   "source": [
    "# -2 = 12\n",
    "# basically any negative number\n",
    "array_3d.reshape(2,-2)"
   ]
  },
  {
   "cell_type": "code",
   "execution_count": 59,
   "id": "bb608f67",
   "metadata": {},
   "outputs": [
    {
     "data": {
      "text/plain": [
       "array([[[0, 0, 0],\n",
       "        [0, 0, 0],\n",
       "        [0, 0, 0],\n",
       "        [1, 0, 2]],\n",
       "\n",
       "       [[0, 0, 0],\n",
       "        [2, 0, 4],\n",
       "        [0, 0, 0],\n",
       "        [3, 0, 6]]])"
      ]
     },
     "execution_count": 59,
     "metadata": {},
     "output_type": "execute_result"
    }
   ],
   "source": [
    "# -1 = 3\n",
    "array_3d.reshape(2,4,-1)"
   ]
  },
  {
   "cell_type": "code",
   "execution_count": 60,
   "id": "63e02532",
   "metadata": {},
   "outputs": [
    {
     "data": {
      "text/plain": [
       "[4, 5, 6, 7, 8, 9]"
      ]
     },
     "execution_count": 60,
     "metadata": {},
     "output_type": "execute_result"
    }
   ],
   "source": [
    "# range()\n",
    "list(range(4,10))"
   ]
  },
  {
   "cell_type": "code",
   "execution_count": 61,
   "id": "f498d3c8",
   "metadata": {},
   "outputs": [
    {
     "data": {
      "text/plain": [
       "[4, 6, 8]"
      ]
     },
     "execution_count": 61,
     "metadata": {},
     "output_type": "execute_result"
    }
   ],
   "source": [
    "list(range(4,10,2))"
   ]
  },
  {
   "cell_type": "code",
   "execution_count": 62,
   "id": "d3d92f2c",
   "metadata": {},
   "outputs": [],
   "source": [
    "# Below code will give error\n",
    "# list(range(4,10,.2))"
   ]
  },
  {
   "cell_type": "code",
   "execution_count": 63,
   "id": "81fa6f35",
   "metadata": {},
   "outputs": [],
   "source": [
    "# Below code will give error\n",
    "# list(range(4,10.5,2))"
   ]
  },
  {
   "cell_type": "code",
   "execution_count": 64,
   "id": "38842174",
   "metadata": {},
   "outputs": [
    {
     "data": {
      "text/plain": [
       "array([4. , 4.2, 4.4, 4.6, 4.8, 5. , 5.2, 5.4, 5.6, 5.8, 6. , 6.2, 6.4,\n",
       "       6.6, 6.8, 7. , 7.2, 7.4, 7.6, 7.8, 8. , 8.2, 8.4, 8.6, 8.8, 9. ,\n",
       "       9.2, 9.4, 9.6, 9.8])"
      ]
     },
     "execution_count": 64,
     "metadata": {},
     "output_type": "execute_result"
    }
   ],
   "source": [
    "# Generate data with range (4, 10(excluding) with .2 step)\n",
    "np.arange(4,10,.2)"
   ]
  },
  {
   "cell_type": "code",
   "execution_count": 65,
   "id": "80eed4db",
   "metadata": {},
   "outputs": [
    {
     "data": {
      "text/plain": [
       "array([ 4.,  6.,  8., 10.])"
      ]
     },
     "execution_count": 65,
     "metadata": {},
     "output_type": "execute_result"
    }
   ],
   "source": [
    "np.arange(4,10.5,2)"
   ]
  },
  {
   "cell_type": "code",
   "execution_count": 66,
   "id": "edfc2238",
   "metadata": {},
   "outputs": [
    {
     "data": {
      "text/plain": [
       "array([4. , 4.2, 4.4, 4.6, 4.8, 5. , 5.2, 5.4, 5.6, 5.8, 6. , 6.2, 6.4,\n",
       "       6.6, 6.8, 7. , 7.2, 7.4, 7.6, 7.8, 8. , 8.2, 8.4, 8.6, 8.8, 9. ,\n",
       "       9.2, 9.4, 9.6, 9.8])"
      ]
     },
     "execution_count": 66,
     "metadata": {},
     "output_type": "execute_result"
    }
   ],
   "source": [
    "array_temp = np.arange(4,10,.2)\n",
    "array_temp"
   ]
  },
  {
   "cell_type": "code",
   "execution_count": 67,
   "id": "97553cb8",
   "metadata": {},
   "outputs": [
    {
     "data": {
      "text/plain": [
       "array([4.2, 4.4, 4.6])"
      ]
     },
     "execution_count": 67,
     "metadata": {},
     "output_type": "execute_result"
    }
   ],
   "source": [
    "array_temp[1:4]"
   ]
  },
  {
   "cell_type": "code",
   "execution_count": 68,
   "id": "9f62ce46",
   "metadata": {},
   "outputs": [
    {
     "data": {
      "text/plain": [
       "array([[0.8613314 , 0.23810449, 0.26841053, 0.51845393, 0.60781071],\n",
       "       [0.0356923 , 0.60896918, 0.30350988, 0.66873361, 0.16993916],\n",
       "       [0.67713435, 0.96102616, 0.58022133, 0.16391797, 0.16227226],\n",
       "       [0.80446682, 0.39770287, 0.47350377, 0.15606022, 0.56312968]])"
      ]
     },
     "execution_count": 68,
     "metadata": {},
     "output_type": "execute_result"
    }
   ],
   "source": [
    "rand_array = np.random.rand(4,5)\n",
    "rand_array"
   ]
  },
  {
   "cell_type": "code",
   "execution_count": 69,
   "id": "2fcda52a",
   "metadata": {},
   "outputs": [
    {
     "data": {
      "text/plain": [
       "array([0.8613314 , 0.51845393, 0.60781071, 0.60896918, 0.66873361,\n",
       "       0.67713435, 0.96102616, 0.58022133, 0.80446682, 0.56312968])"
      ]
     },
     "execution_count": 69,
     "metadata": {},
     "output_type": "execute_result"
    }
   ],
   "source": [
    "# Get all numbers greater than 0.5\n",
    "rand_array[rand_array > 0.5]"
   ]
  },
  {
   "cell_type": "code",
   "execution_count": 70,
   "id": "e30e8728",
   "metadata": {},
   "outputs": [
    {
     "data": {
      "text/plain": [
       "array([0.30350988, 0.58022133])"
      ]
     },
     "execution_count": 70,
     "metadata": {},
     "output_type": "execute_result"
    }
   ],
   "source": [
    "rand_array[[1,2],[2]]"
   ]
  },
  {
   "cell_type": "code",
   "execution_count": 71,
   "id": "9c0dbb5b",
   "metadata": {},
   "outputs": [
    {
     "data": {
      "text/plain": [
       "array([[0.03633531, 0.8410447 , 0.24156772, 0.05457065, 0.08337886],\n",
       "       [0.68666838, 0.10299888, 0.10764084, 0.88501764, 0.86823508],\n",
       "       [0.56691591, 0.55389042, 0.04181293, 0.95170228, 0.88691251],\n",
       "       [0.16595773, 0.73906396, 0.79623826, 0.3342479 , 0.9356512 ],\n",
       "       [0.81057217, 0.74863489, 0.28870215, 0.55153217, 0.65104483],\n",
       "       [0.53960898, 0.20084519, 0.4206996 , 0.94371383, 0.51171584],\n",
       "       [0.33672059, 0.95245498, 0.82013566, 0.02917893, 0.45194705],\n",
       "       [0.13344613, 0.17165239, 0.48829773, 0.85015862, 0.11019643]])"
      ]
     },
     "execution_count": 71,
     "metadata": {},
     "output_type": "execute_result"
    }
   ],
   "source": [
    "rand_array = np.random.rand(8,5)\n",
    "rand_array"
   ]
  },
  {
   "cell_type": "code",
   "execution_count": 72,
   "id": "c32d94bf",
   "metadata": {},
   "outputs": [
    {
     "data": {
      "text/plain": [
       "array([[0.68666838, 0.10299888, 0.10764084],\n",
       "       [0.56691591, 0.55389042, 0.04181293],\n",
       "       [0.16595773, 0.73906396, 0.79623826],\n",
       "       [0.81057217, 0.74863489, 0.28870215],\n",
       "       [0.53960898, 0.20084519, 0.4206996 ],\n",
       "       [0.33672059, 0.95245498, 0.82013566],\n",
       "       [0.13344613, 0.17165239, 0.48829773]])"
      ]
     },
     "execution_count": 72,
     "metadata": {},
     "output_type": "execute_result"
    }
   ],
   "source": [
    "rand_array[1:,0:3]"
   ]
  },
  {
   "cell_type": "code",
   "execution_count": 73,
   "id": "14050c4f",
   "metadata": {},
   "outputs": [
    {
     "data": {
      "text/plain": [
       "array([[1.        , 0.8410447 , 0.24156772, 0.05457065, 0.08337886],\n",
       "       [0.68666838, 0.10299888, 0.10764084, 0.88501764, 0.86823508],\n",
       "       [0.56691591, 0.55389042, 0.04181293, 0.95170228, 0.88691251],\n",
       "       [0.16595773, 0.73906396, 0.79623826, 0.3342479 , 0.9356512 ],\n",
       "       [0.81057217, 0.74863489, 0.28870215, 0.55153217, 0.65104483],\n",
       "       [0.53960898, 0.20084519, 0.4206996 , 0.94371383, 0.51171584],\n",
       "       [0.33672059, 0.95245498, 0.82013566, 0.02917893, 0.45194705],\n",
       "       [0.13344613, 0.17165239, 0.48829773, 0.85015862, 0.11019643]])"
      ]
     },
     "execution_count": 73,
     "metadata": {},
     "output_type": "execute_result"
    }
   ],
   "source": [
    "rand_array[0][0] = 1\n",
    "rand_array"
   ]
  },
  {
   "cell_type": "code",
   "execution_count": 74,
   "id": "4c8cca81",
   "metadata": {},
   "outputs": [],
   "source": [
    "array_a = np.array([[1,2],[3,4]])\n",
    "array_b = np.array([[2,3],[4,5]])"
   ]
  },
  {
   "cell_type": "code",
   "execution_count": 75,
   "id": "9876316b",
   "metadata": {},
   "outputs": [
    {
     "data": {
      "text/plain": [
       "array([[ 2,  6],\n",
       "       [12, 20]])"
      ]
     },
     "execution_count": 75,
     "metadata": {},
     "output_type": "execute_result"
    }
   ],
   "source": [
    "# Not a matrix multiplication just a element wise multiplication\n",
    "array_a * array_b"
   ]
  },
  {
   "cell_type": "code",
   "execution_count": 76,
   "id": "d2c0a092",
   "metadata": {},
   "outputs": [
    {
     "data": {
      "text/plain": [
       "array([[10, 13],\n",
       "       [22, 29]])"
      ]
     },
     "execution_count": 76,
     "metadata": {},
     "output_type": "execute_result"
    }
   ],
   "source": [
    "# Matrix multiplication\n",
    "mul_res = array_a @ array_b\n",
    "mul_res"
   ]
  },
  {
   "cell_type": "markdown",
   "id": "2bbd051c",
   "metadata": {},
   "source": [
    "#### Rule\n",
    "* n x m and l x k matrix can be multiplied only if m=l\n",
    "* resulting matrix will be of dimension n x k"
   ]
  },
  {
   "cell_type": "code",
   "execution_count": 77,
   "id": "48ca4dfd",
   "metadata": {},
   "outputs": [
    {
     "name": "stderr",
     "output_type": "stream",
     "text": [
      "C:\\Users\\thaku\\AppData\\Local\\Temp/ipykernel_30928/2445926389.py:1: RuntimeWarning: divide by zero encountered in true_divide\n",
      "  mul_res/0\n"
     ]
    },
    {
     "data": {
      "text/plain": [
       "array([[inf, inf],\n",
       "       [inf, inf]])"
      ]
     },
     "execution_count": 77,
     "metadata": {},
     "output_type": "execute_result"
    }
   ],
   "source": [
    "mul_res/0"
   ]
  },
  {
   "cell_type": "markdown",
   "id": "9c0542f7",
   "metadata": {},
   "source": [
    "## 13 March"
   ]
  },
  {
   "cell_type": "code",
   "execution_count": 78,
   "id": "9e6124a5",
   "metadata": {},
   "outputs": [
    {
     "data": {
      "text/plain": [
       "array([0., 0., 0., 0., 0.])"
      ]
     },
     "execution_count": 78,
     "metadata": {},
     "output_type": "execute_result"
    }
   ],
   "source": [
    "np.zeros(5)"
   ]
  },
  {
   "cell_type": "code",
   "execution_count": 79,
   "id": "9ea42fcd",
   "metadata": {},
   "outputs": [
    {
     "data": {
      "text/plain": [
       "array([[0., 0., 0., 0.],\n",
       "       [0., 0., 0., 0.],\n",
       "       [0., 0., 0., 0.]])"
      ]
     },
     "execution_count": 79,
     "metadata": {},
     "output_type": "execute_result"
    }
   ],
   "source": [
    "np.zeros((3,4))"
   ]
  },
  {
   "cell_type": "code",
   "execution_count": 80,
   "id": "ec5a85eb",
   "metadata": {},
   "outputs": [
    {
     "data": {
      "text/plain": [
       "array([[[0., 0., 0., 0., 0.],\n",
       "        [0., 0., 0., 0., 0.],\n",
       "        [0., 0., 0., 0., 0.],\n",
       "        [0., 0., 0., 0., 0.]],\n",
       "\n",
       "       [[0., 0., 0., 0., 0.],\n",
       "        [0., 0., 0., 0., 0.],\n",
       "        [0., 0., 0., 0., 0.],\n",
       "        [0., 0., 0., 0., 0.]],\n",
       "\n",
       "       [[0., 0., 0., 0., 0.],\n",
       "        [0., 0., 0., 0., 0.],\n",
       "        [0., 0., 0., 0., 0.],\n",
       "        [0., 0., 0., 0., 0.]]])"
      ]
     },
     "execution_count": 80,
     "metadata": {},
     "output_type": "execute_result"
    }
   ],
   "source": [
    "np.zeros((3,4,5))"
   ]
  },
  {
   "cell_type": "code",
   "execution_count": 81,
   "id": "9bef6bb7",
   "metadata": {},
   "outputs": [
    {
     "data": {
      "text/plain": [
       "array([1., 1., 1., 1., 1.])"
      ]
     },
     "execution_count": 81,
     "metadata": {},
     "output_type": "execute_result"
    }
   ],
   "source": [
    "np.ones(5)"
   ]
  },
  {
   "cell_type": "code",
   "execution_count": 82,
   "id": "a8cbe041",
   "metadata": {},
   "outputs": [
    {
     "data": {
      "text/plain": [
       "array([[1., 1., 1., 1., 1., 1.],\n",
       "       [1., 1., 1., 1., 1., 1.],\n",
       "       [1., 1., 1., 1., 1., 1.]])"
      ]
     },
     "execution_count": 82,
     "metadata": {},
     "output_type": "execute_result"
    }
   ],
   "source": [
    "np.ones((3,6))"
   ]
  },
  {
   "cell_type": "code",
   "execution_count": 83,
   "id": "c86b23d0",
   "metadata": {},
   "outputs": [
    {
     "data": {
      "text/plain": [
       "array([[[1., 1.],\n",
       "        [1., 1.],\n",
       "        [1., 1.],\n",
       "        [1., 1.],\n",
       "        [1., 1.],\n",
       "        [1., 1.]],\n",
       "\n",
       "       [[1., 1.],\n",
       "        [1., 1.],\n",
       "        [1., 1.],\n",
       "        [1., 1.],\n",
       "        [1., 1.],\n",
       "        [1., 1.]],\n",
       "\n",
       "       [[1., 1.],\n",
       "        [1., 1.],\n",
       "        [1., 1.],\n",
       "        [1., 1.],\n",
       "        [1., 1.],\n",
       "        [1., 1.]]])"
      ]
     },
     "execution_count": 83,
     "metadata": {},
     "output_type": "execute_result"
    }
   ],
   "source": [
    "np.ones((3,6,2))"
   ]
  },
  {
   "cell_type": "code",
   "execution_count": 84,
   "id": "07e2d324",
   "metadata": {},
   "outputs": [
    {
     "data": {
      "text/plain": [
       "array([[5., 5., 5., 5.],\n",
       "       [5., 5., 5., 5.],\n",
       "       [5., 5., 5., 5.]])"
      ]
     },
     "execution_count": 84,
     "metadata": {},
     "output_type": "execute_result"
    }
   ],
   "source": [
    "# broadcasting - perfroming similar operation to all the element of a space\n",
    "5 + np.zeros((3,4))"
   ]
  },
  {
   "cell_type": "code",
   "execution_count": 85,
   "id": "e00bba33",
   "metadata": {},
   "outputs": [
    {
     "data": {
      "text/plain": [
       "array([[0.8613314 , 0.23810449, 0.26841053, 0.51845393, 0.60781071],\n",
       "       [0.0356923 , 0.60896918, 0.30350988, 0.66873361, 0.16993916],\n",
       "       [0.67713435, 0.96102616, 0.58022133, 0.16391797, 0.16227226],\n",
       "       [0.80446682, 0.39770287, 0.47350377, 0.15606022, 0.56312968]])"
      ]
     },
     "execution_count": 85,
     "metadata": {},
     "output_type": "execute_result"
    }
   ],
   "source": [
    "np.empty((4,5))"
   ]
  },
  {
   "cell_type": "code",
   "execution_count": 86,
   "id": "44725eee",
   "metadata": {},
   "outputs": [
    {
     "data": {
      "text/plain": [
       "array([2.        , 2.08163265, 2.16326531, 2.24489796, 2.32653061,\n",
       "       2.40816327, 2.48979592, 2.57142857, 2.65306122, 2.73469388,\n",
       "       2.81632653, 2.89795918, 2.97959184, 3.06122449, 3.14285714,\n",
       "       3.2244898 , 3.30612245, 3.3877551 , 3.46938776, 3.55102041,\n",
       "       3.63265306, 3.71428571, 3.79591837, 3.87755102, 3.95918367,\n",
       "       4.04081633, 4.12244898, 4.20408163, 4.28571429, 4.36734694,\n",
       "       4.44897959, 4.53061224, 4.6122449 , 4.69387755, 4.7755102 ,\n",
       "       4.85714286, 4.93877551, 5.02040816, 5.10204082, 5.18367347,\n",
       "       5.26530612, 5.34693878, 5.42857143, 5.51020408, 5.59183673,\n",
       "       5.67346939, 5.75510204, 5.83673469, 5.91836735, 6.        ])"
      ]
     },
     "execution_count": 86,
     "metadata": {},
     "output_type": "execute_result"
    }
   ],
   "source": [
    "# numbers between 2 and 6\n",
    "np.linspace(2,6)"
   ]
  },
  {
   "cell_type": "code",
   "execution_count": 87,
   "id": "5dcac434",
   "metadata": {},
   "outputs": [
    {
     "data": {
      "text/plain": [
       "array([2.        , 2.44444444, 2.88888889, 3.33333333, 3.77777778,\n",
       "       4.22222222, 4.66666667, 5.11111111, 5.55555556, 6.        ])"
      ]
     },
     "execution_count": 87,
     "metadata": {},
     "output_type": "execute_result"
    }
   ],
   "source": [
    "# 10 numbers between 2 and 6\n",
    "np.linspace(2,6,10)"
   ]
  },
  {
   "cell_type": "code",
   "execution_count": 88,
   "id": "56972f9c",
   "metadata": {},
   "outputs": [
    {
     "data": {
      "text/plain": [
       "array([2.        , 2.04040404, 2.08080808, 2.12121212, 2.16161616,\n",
       "       2.2020202 , 2.24242424, 2.28282828, 2.32323232, 2.36363636,\n",
       "       2.4040404 , 2.44444444, 2.48484848, 2.52525253, 2.56565657,\n",
       "       2.60606061, 2.64646465, 2.68686869, 2.72727273, 2.76767677,\n",
       "       2.80808081, 2.84848485, 2.88888889, 2.92929293, 2.96969697,\n",
       "       3.01010101, 3.05050505, 3.09090909, 3.13131313, 3.17171717,\n",
       "       3.21212121, 3.25252525, 3.29292929, 3.33333333, 3.37373737,\n",
       "       3.41414141, 3.45454545, 3.49494949, 3.53535354, 3.57575758,\n",
       "       3.61616162, 3.65656566, 3.6969697 , 3.73737374, 3.77777778,\n",
       "       3.81818182, 3.85858586, 3.8989899 , 3.93939394, 3.97979798,\n",
       "       4.02020202, 4.06060606, 4.1010101 , 4.14141414, 4.18181818,\n",
       "       4.22222222, 4.26262626, 4.3030303 , 4.34343434, 4.38383838,\n",
       "       4.42424242, 4.46464646, 4.50505051, 4.54545455, 4.58585859,\n",
       "       4.62626263, 4.66666667, 4.70707071, 4.74747475, 4.78787879,\n",
       "       4.82828283, 4.86868687, 4.90909091, 4.94949495, 4.98989899,\n",
       "       5.03030303, 5.07070707, 5.11111111, 5.15151515, 5.19191919,\n",
       "       5.23232323, 5.27272727, 5.31313131, 5.35353535, 5.39393939,\n",
       "       5.43434343, 5.47474747, 5.51515152, 5.55555556, 5.5959596 ,\n",
       "       5.63636364, 5.67676768, 5.71717172, 5.75757576, 5.7979798 ,\n",
       "       5.83838384, 5.87878788, 5.91919192, 5.95959596, 6.        ])"
      ]
     },
     "execution_count": 88,
     "metadata": {},
     "output_type": "execute_result"
    }
   ],
   "source": [
    "# 100 numbers between 2 and 6\n",
    "np.linspace(2,6,100)"
   ]
  },
  {
   "cell_type": "code",
   "execution_count": 89,
   "id": "782f699f",
   "metadata": {},
   "outputs": [
    {
     "data": {
      "text/plain": [
       "array([[2.        , 2.44444444],\n",
       "       [2.88888889, 3.33333333],\n",
       "       [3.77777778, 4.22222222],\n",
       "       [4.66666667, 5.11111111],\n",
       "       [5.55555556, 6.        ]])"
      ]
     },
     "execution_count": 89,
     "metadata": {},
     "output_type": "execute_result"
    }
   ],
   "source": [
    "np.linspace(2,6,10).reshape(5,2)"
   ]
  },
  {
   "cell_type": "code",
   "execution_count": 90,
   "id": "0c8122bf",
   "metadata": {},
   "outputs": [
    {
     "data": {
      "text/plain": [
       "array([[2.        , 2.44444444, 2.88888889, 3.33333333, 3.77777778],\n",
       "       [4.22222222, 4.66666667, 5.11111111, 5.55555556, 6.        ]])"
      ]
     },
     "execution_count": 90,
     "metadata": {},
     "output_type": "execute_result"
    }
   ],
   "source": [
    "np.linspace(2,6,10).reshape(2,5)"
   ]
  },
  {
   "cell_type": "code",
   "execution_count": 91,
   "id": "d09295ce",
   "metadata": {},
   "outputs": [
    {
     "data": {
      "text/plain": [
       "array([[2. , 2.4],\n",
       "       [2.8, 3.2],\n",
       "       [3.6, 4. ],\n",
       "       [4.4, 4.8],\n",
       "       [5.2, 5.6]])"
      ]
     },
     "execution_count": 91,
     "metadata": {},
     "output_type": "execute_result"
    }
   ],
   "source": [
    "# not consider upper bound 6, by default \"endpoint\" is set to True\n",
    "np.linspace(2,6,10, endpoint=False).reshape(5,2)"
   ]
  },
  {
   "cell_type": "code",
   "execution_count": 92,
   "id": "ad77aba3",
   "metadata": {},
   "outputs": [
    {
     "data": {
      "text/plain": [
       "(array([2. , 2.4, 2.8, 3.2, 3.6, 4. , 4.4, 4.8, 5.2, 5.6]), 0.4)"
      ]
     },
     "execution_count": 92,
     "metadata": {},
     "output_type": "execute_result"
    }
   ],
   "source": [
    "np.linspace(2,6,10, endpoint=False, retstep=2)"
   ]
  },
  {
   "cell_type": "code",
   "execution_count": 93,
   "id": "feaaa139",
   "metadata": {},
   "outputs": [
    {
     "data": {
      "text/plain": [
       "(array([2.  , 2.04, 2.08, 2.12, 2.16, 2.2 , 2.24, 2.28, 2.32, 2.36, 2.4 ,\n",
       "        2.44, 2.48, 2.52, 2.56, 2.6 , 2.64, 2.68, 2.72, 2.76, 2.8 , 2.84,\n",
       "        2.88, 2.92, 2.96, 3.  , 3.04, 3.08, 3.12, 3.16, 3.2 , 3.24, 3.28,\n",
       "        3.32, 3.36, 3.4 , 3.44, 3.48, 3.52, 3.56, 3.6 , 3.64, 3.68, 3.72,\n",
       "        3.76, 3.8 , 3.84, 3.88, 3.92, 3.96, 4.  , 4.04, 4.08, 4.12, 4.16,\n",
       "        4.2 , 4.24, 4.28, 4.32, 4.36, 4.4 , 4.44, 4.48, 4.52, 4.56, 4.6 ,\n",
       "        4.64, 4.68, 4.72, 4.76, 4.8 , 4.84, 4.88, 4.92, 4.96, 5.  , 5.04,\n",
       "        5.08, 5.12, 5.16, 5.2 , 5.24, 5.28, 5.32, 5.36, 5.4 , 5.44, 5.48,\n",
       "        5.52, 5.56, 5.6 , 5.64, 5.68, 5.72, 5.76, 5.8 , 5.84, 5.88, 5.92,\n",
       "        5.96]),\n",
       " 0.04)"
      ]
     },
     "execution_count": 93,
     "metadata": {},
     "output_type": "execute_result"
    }
   ],
   "source": [
    "np.linspace(2,6,100, endpoint=False, retstep=2)"
   ]
  },
  {
   "cell_type": "code",
   "execution_count": 94,
   "id": "37dcb366",
   "metadata": {},
   "outputs": [
    {
     "data": {
      "text/plain": [
       "array([1.00000000e+02, 1.20679264e+02, 1.45634848e+02, 1.75751062e+02,\n",
       "       2.12095089e+02, 2.55954792e+02, 3.08884360e+02, 3.72759372e+02,\n",
       "       4.49843267e+02, 5.42867544e+02, 6.55128557e+02, 7.90604321e+02,\n",
       "       9.54095476e+02, 1.15139540e+03, 1.38949549e+03, 1.67683294e+03,\n",
       "       2.02358965e+03, 2.44205309e+03, 2.94705170e+03, 3.55648031e+03,\n",
       "       4.29193426e+03, 5.17947468e+03, 6.25055193e+03, 7.54312006e+03,\n",
       "       9.10298178e+03, 1.09854114e+04, 1.32571137e+04, 1.59985872e+04,\n",
       "       1.93069773e+04, 2.32995181e+04, 2.81176870e+04, 3.39322177e+04,\n",
       "       4.09491506e+04, 4.94171336e+04, 5.96362332e+04, 7.19685673e+04,\n",
       "       8.68511374e+04, 1.04811313e+05, 1.26485522e+05, 1.52641797e+05,\n",
       "       1.84206997e+05, 2.22299648e+05, 2.68269580e+05, 3.23745754e+05,\n",
       "       3.90693994e+05, 4.71486636e+05, 5.68986603e+05, 6.86648845e+05,\n",
       "       8.28642773e+05, 1.00000000e+06])"
      ]
     },
     "execution_count": 94,
     "metadata": {},
     "output_type": "execute_result"
    }
   ],
   "source": [
    "# generate logarithmic numbers between number range 2 and 6\n",
    "np.logspace(2,6)"
   ]
  },
  {
   "cell_type": "code",
   "execution_count": 95,
   "id": "9a7daabc",
   "metadata": {},
   "outputs": [
    {
     "data": {
      "text/plain": [
       "array([1.00000000e+02, 2.78255940e+02, 7.74263683e+02, 2.15443469e+03,\n",
       "       5.99484250e+03, 1.66810054e+04, 4.64158883e+04, 1.29154967e+05,\n",
       "       3.59381366e+05, 1.00000000e+06])"
      ]
     },
     "execution_count": 95,
     "metadata": {},
     "output_type": "execute_result"
    }
   ],
   "source": [
    "np.logspace(2,6,10)"
   ]
  },
  {
   "cell_type": "code",
   "execution_count": 96,
   "id": "97ba9413",
   "metadata": {},
   "outputs": [
    {
     "data": {
      "text/plain": [
       "array([[1.00000000e+02, 2.78255940e+02],\n",
       "       [7.74263683e+02, 2.15443469e+03],\n",
       "       [5.99484250e+03, 1.66810054e+04],\n",
       "       [4.64158883e+04, 1.29154967e+05],\n",
       "       [3.59381366e+05, 1.00000000e+06]])"
      ]
     },
     "execution_count": 96,
     "metadata": {},
     "output_type": "execute_result"
    }
   ],
   "source": [
    "np.logspace(2,6,10).reshape(5,2)"
   ]
  },
  {
   "cell_type": "code",
   "execution_count": 97,
   "id": "e0a89085",
   "metadata": {},
   "outputs": [
    {
     "data": {
      "text/plain": [
       "array([1.00000000e+02, 2.78255940e+02, 7.74263683e+02, 2.15443469e+03,\n",
       "       5.99484250e+03, 1.66810054e+04, 4.64158883e+04, 1.29154967e+05,\n",
       "       3.59381366e+05, 1.00000000e+06])"
      ]
     },
     "execution_count": 97,
     "metadata": {},
     "output_type": "execute_result"
    }
   ],
   "source": [
    "# 10 numbers of log base 10 \n",
    "np.logspace(2,6,10, base=10)"
   ]
  },
  {
   "cell_type": "code",
   "execution_count": 98,
   "id": "fc69b034",
   "metadata": {},
   "outputs": [
    {
     "data": {
      "text/plain": [
       "array([ 4.        ,  5.44316   ,  7.4069977 , 10.0793684 , 13.71590373,\n",
       "       18.66446463, 25.39841683, 34.56191164, 47.03150375, 64.        ])"
      ]
     },
     "execution_count": 98,
     "metadata": {},
     "output_type": "execute_result"
    }
   ],
   "source": [
    "# 10 numbers of log base 2 \n",
    "np.logspace(2,6,10, base=2)"
   ]
  },
  {
   "cell_type": "code",
   "execution_count": 99,
   "id": "334ea62b",
   "metadata": {},
   "outputs": [
    {
     "data": {
      "text/plain": [
       "-2.672370700860661"
      ]
     },
     "execution_count": 99,
     "metadata": {},
     "output_type": "execute_result"
    }
   ],
   "source": [
    "step_size = np.logspace(2,6,10, base=2)[2] - np.logspace(2,6,10, base=2)[3]\n",
    "step_size"
   ]
  },
  {
   "cell_type": "code",
   "execution_count": 100,
   "id": "2200d773",
   "metadata": {},
   "outputs": [
    {
     "data": {
      "text/plain": [
       "-3.636535326490181"
      ]
     },
     "execution_count": 100,
     "metadata": {},
     "output_type": "execute_result"
    }
   ],
   "source": [
    "step_size = np.logspace(2,6,10, base=2)[3] - np.logspace(2,6,10, base=2)[4]\n",
    "step_size"
   ]
  },
  {
   "cell_type": "code",
   "execution_count": 101,
   "id": "f7d3c848",
   "metadata": {},
   "outputs": [
    {
     "data": {
      "text/plain": [
       "array([[ 0,  1,  2,  3],\n",
       "       [ 4,  5,  6,  7],\n",
       "       [ 8,  9, 10, 11],\n",
       "       [12, 13, 14, 15]])"
      ]
     },
     "execution_count": 101,
     "metadata": {},
     "output_type": "execute_result"
    }
   ],
   "source": [
    "array_4x4 = np.arange(16).reshape(4,4)\n",
    "array_4x4"
   ]
  },
  {
   "cell_type": "code",
   "execution_count": 102,
   "id": "d817a684",
   "metadata": {},
   "outputs": [
    {
     "data": {
      "text/plain": [
       "15"
      ]
     },
     "execution_count": 102,
     "metadata": {},
     "output_type": "execute_result"
    }
   ],
   "source": [
    "array_4x4.max()"
   ]
  },
  {
   "cell_type": "code",
   "execution_count": 103,
   "id": "bed9cf28",
   "metadata": {},
   "outputs": [
    {
     "data": {
      "text/plain": [
       "0"
      ]
     },
     "execution_count": 103,
     "metadata": {},
     "output_type": "execute_result"
    }
   ],
   "source": [
    "array_4x4.min()"
   ]
  },
  {
   "cell_type": "markdown",
   "id": "79bd4e03",
   "metadata": {},
   "source": [
    "return `index` or `number`? let's see"
   ]
  },
  {
   "cell_type": "code",
   "execution_count": 104,
   "id": "2a191e01",
   "metadata": {},
   "outputs": [
    {
     "data": {
      "text/plain": [
       "array([[ 1,  2,  3,  4],\n",
       "       [ 5,  6,  7,  8],\n",
       "       [ 9, 10, 11, 12],\n",
       "       [13, 14, 15, 16]])"
      ]
     },
     "execution_count": 104,
     "metadata": {},
     "output_type": "execute_result"
    }
   ],
   "source": [
    "array_4x4 = np.arange(1,17).reshape(4,4)\n",
    "array_4x4"
   ]
  },
  {
   "cell_type": "code",
   "execution_count": 105,
   "id": "fb730dc5",
   "metadata": {},
   "outputs": [
    {
     "data": {
      "text/plain": [
       "16"
      ]
     },
     "execution_count": 105,
     "metadata": {},
     "output_type": "execute_result"
    }
   ],
   "source": [
    "array_4x4.max()"
   ]
  },
  {
   "cell_type": "code",
   "execution_count": 106,
   "id": "c589a12d",
   "metadata": {},
   "outputs": [
    {
     "data": {
      "text/plain": [
       "1"
      ]
     },
     "execution_count": 106,
     "metadata": {},
     "output_type": "execute_result"
    }
   ],
   "source": [
    "array_4x4.min()"
   ]
  },
  {
   "cell_type": "code",
   "execution_count": 107,
   "id": "b76bf3d3",
   "metadata": {},
   "outputs": [
    {
     "data": {
      "text/plain": [
       "array([[[ 1,  2],\n",
       "        [ 3,  4],\n",
       "        [ 5,  6],\n",
       "        [ 7,  8],\n",
       "        [ 9, 10],\n",
       "        [11, 12]],\n",
       "\n",
       "       [[13, 14],\n",
       "        [15, 16],\n",
       "        [17, 18],\n",
       "        [19, 20],\n",
       "        [21, 22],\n",
       "        [23, 24]],\n",
       "\n",
       "       [[25, 26],\n",
       "        [27, 28],\n",
       "        [29, 30],\n",
       "        [31, 32],\n",
       "        [33, 34],\n",
       "        [35, 36]]])"
      ]
     },
     "execution_count": 107,
     "metadata": {},
     "output_type": "execute_result"
    }
   ],
   "source": [
    "array_3x6x2 = np.arange(1,37).reshape(3,6,2)\n",
    "array_3x6x2"
   ]
  },
  {
   "cell_type": "code",
   "execution_count": 108,
   "id": "a76323cd",
   "metadata": {},
   "outputs": [
    {
     "data": {
      "text/plain": [
       "36"
      ]
     },
     "execution_count": 108,
     "metadata": {},
     "output_type": "execute_result"
    }
   ],
   "source": [
    "array_3x6x2.max()"
   ]
  },
  {
   "cell_type": "code",
   "execution_count": 109,
   "id": "8b625e49",
   "metadata": {},
   "outputs": [
    {
     "data": {
      "text/plain": [
       "array([[11, 12],\n",
       "       [23, 24],\n",
       "       [35, 36]])"
      ]
     },
     "execution_count": 109,
     "metadata": {},
     "output_type": "execute_result"
    }
   ],
   "source": [
    "# get max, after row wise search\n",
    "array_3x6x2.max(axis=1)"
   ]
  },
  {
   "cell_type": "code",
   "execution_count": 110,
   "id": "c269e70d",
   "metadata": {},
   "outputs": [
    {
     "data": {
      "text/plain": [
       "array([[25, 26],\n",
       "       [27, 28],\n",
       "       [29, 30],\n",
       "       [31, 32],\n",
       "       [33, 34],\n",
       "       [35, 36]])"
      ]
     },
     "execution_count": 110,
     "metadata": {},
     "output_type": "execute_result"
    }
   ],
   "source": [
    "# get max, after column wise search\n",
    "array_3x6x2.max(axis=0)"
   ]
  },
  {
   "cell_type": "code",
   "execution_count": 111,
   "id": "03362a1a",
   "metadata": {},
   "outputs": [
    {
     "data": {
      "text/plain": [
       "array([[ 1,  2,  3,  4,  5,  6],\n",
       "       [ 7,  8,  9, 10, 11, 12],\n",
       "       [13, 14, 15, 16, 17, 18],\n",
       "       [19, 20, 21, 22, 23, 24],\n",
       "       [25, 26, 27, 28, 29, 30],\n",
       "       [31, 32, 33, 34, 35, 36]])"
      ]
     },
     "execution_count": 111,
     "metadata": {},
     "output_type": "execute_result"
    }
   ],
   "source": [
    "array_6x6 = np.arange(1,37).reshape(6,6)\n",
    "array_6x6"
   ]
  },
  {
   "cell_type": "code",
   "execution_count": 112,
   "id": "0fa1559d",
   "metadata": {},
   "outputs": [
    {
     "data": {
      "text/plain": [
       "36"
      ]
     },
     "execution_count": 112,
     "metadata": {},
     "output_type": "execute_result"
    }
   ],
   "source": [
    "array_6x6.max()"
   ]
  },
  {
   "cell_type": "code",
   "execution_count": 113,
   "id": "6caf17fe",
   "metadata": {},
   "outputs": [
    {
     "data": {
      "text/plain": [
       "array([31, 32, 33, 34, 35, 36])"
      ]
     },
     "execution_count": 113,
     "metadata": {},
     "output_type": "execute_result"
    }
   ],
   "source": [
    "# axis=0 means row\n",
    "array_6x6.max(axis=0)"
   ]
  },
  {
   "cell_type": "code",
   "execution_count": 114,
   "id": "ba1a78a4",
   "metadata": {},
   "outputs": [
    {
     "data": {
      "text/plain": [
       "array([ 6, 12, 18, 24, 30, 36])"
      ]
     },
     "execution_count": 114,
     "metadata": {},
     "output_type": "execute_result"
    }
   ],
   "source": [
    "# axis=1 means column\n",
    "array_6x6.max(axis=1)"
   ]
  },
  {
   "cell_type": "code",
   "execution_count": 115,
   "id": "c951d85d",
   "metadata": {},
   "outputs": [
    {
     "data": {
      "text/plain": [
       "array([[11, 12, 13, 14, 15, 16],\n",
       "       [17, 18, 19, 20, 21, 22],\n",
       "       [23, 24, 25, 26, 27, 28],\n",
       "       [29, 30, 31, 32, 33, 34],\n",
       "       [35, 36, 37, 38, 39, 40],\n",
       "       [41, 42, 43, 44, 45, 46]])"
      ]
     },
     "execution_count": 115,
     "metadata": {},
     "output_type": "execute_result"
    }
   ],
   "source": [
    "array_6x6 + 10"
   ]
  },
  {
   "cell_type": "code",
   "execution_count": 116,
   "id": "64cc2214",
   "metadata": {},
   "outputs": [
    {
     "name": "stderr",
     "output_type": "stream",
     "text": [
      "C:\\Users\\thaku\\AppData\\Local\\Temp/ipykernel_30928/2900216602.py:1: RuntimeWarning: divide by zero encountered in true_divide\n",
      "  array_6x6/0\n"
     ]
    },
    {
     "data": {
      "text/plain": [
       "array([[inf, inf, inf, inf, inf, inf],\n",
       "       [inf, inf, inf, inf, inf, inf],\n",
       "       [inf, inf, inf, inf, inf, inf],\n",
       "       [inf, inf, inf, inf, inf, inf],\n",
       "       [inf, inf, inf, inf, inf, inf],\n",
       "       [inf, inf, inf, inf, inf, inf]])"
      ]
     },
     "execution_count": 116,
     "metadata": {},
     "output_type": "execute_result"
    }
   ],
   "source": [
    "array_6x6/0"
   ]
  },
  {
   "cell_type": "code",
   "execution_count": 117,
   "id": "93b370c8",
   "metadata": {},
   "outputs": [
    {
     "data": {
      "text/plain": [
       "array([[   1,    4,    9,   16,   25,   36],\n",
       "       [  49,   64,   81,  100,  121,  144],\n",
       "       [ 169,  196,  225,  256,  289,  324],\n",
       "       [ 361,  400,  441,  484,  529,  576],\n",
       "       [ 625,  676,  729,  784,  841,  900],\n",
       "       [ 961, 1024, 1089, 1156, 1225, 1296]], dtype=int32)"
      ]
     },
     "execution_count": 117,
     "metadata": {},
     "output_type": "execute_result"
    }
   ],
   "source": [
    "array_6x6 ** 2"
   ]
  },
  {
   "cell_type": "code",
   "execution_count": 118,
   "id": "3304be2b",
   "metadata": {},
   "outputs": [
    {
     "data": {
      "text/plain": [
       "array([[   1,    4,    9,   16,   25,   36],\n",
       "       [  49,   64,   81,  100,  121,  144],\n",
       "       [ 169,  196,  225,  256,  289,  324],\n",
       "       [ 361,  400,  441,  484,  529,  576],\n",
       "       [ 625,  676,  729,  784,  841,  900],\n",
       "       [ 961, 1024, 1089, 1156, 1225, 1296]], dtype=int32)"
      ]
     },
     "execution_count": 118,
     "metadata": {},
     "output_type": "execute_result"
    }
   ],
   "source": [
    "pow(array_6x6, 2)"
   ]
  },
  {
   "cell_type": "code",
   "execution_count": 119,
   "id": "1e168ad6",
   "metadata": {},
   "outputs": [
    {
     "data": {
      "text/plain": [
       "array([[    1,     8,    27,    64,   125,   216],\n",
       "       [  343,   512,   729,  1000,  1331,  1728],\n",
       "       [ 2197,  2744,  3375,  4096,  4913,  5832],\n",
       "       [ 6859,  8000,  9261, 10648, 12167, 13824],\n",
       "       [15625, 17576, 19683, 21952, 24389, 27000],\n",
       "       [29791, 32768, 35937, 39304, 42875, 46656]], dtype=int32)"
      ]
     },
     "execution_count": 119,
     "metadata": {},
     "output_type": "execute_result"
    }
   ],
   "source": [
    "pow(array_6x6, 3)"
   ]
  },
  {
   "cell_type": "code",
   "execution_count": 120,
   "id": "51626ee2",
   "metadata": {},
   "outputs": [
    {
     "data": {
      "text/plain": [
       "array([[      1,      16,      81,     256,     625,    1296],\n",
       "       [   2401,    4096,    6561,   10000,   14641,   20736],\n",
       "       [  28561,   38416,   50625,   65536,   83521,  104976],\n",
       "       [ 130321,  160000,  194481,  234256,  279841,  331776],\n",
       "       [ 390625,  456976,  531441,  614656,  707281,  810000],\n",
       "       [ 923521, 1048576, 1185921, 1336336, 1500625, 1679616]],\n",
       "      dtype=int32)"
      ]
     },
     "execution_count": 120,
     "metadata": {},
     "output_type": "execute_result"
    }
   ],
   "source": [
    "pow(array_6x6, 4)"
   ]
  },
  {
   "cell_type": "code",
   "execution_count": 121,
   "id": "0aa06f01",
   "metadata": {},
   "outputs": [
    {
     "data": {
      "text/plain": [
       "array([2, 3, 1, 2, 3, 2])"
      ]
     },
     "execution_count": 121,
     "metadata": {},
     "output_type": "execute_result"
    }
   ],
   "source": [
    "array_1x6 = np.array([2,3,1,2,3,2])\n",
    "array_1x6"
   ]
  },
  {
   "cell_type": "code",
   "execution_count": 122,
   "id": "822d16c1",
   "metadata": {},
   "outputs": [
    {
     "data": {
      "text/plain": [
       "array([[ 3,  5,  4,  6,  8,  8],\n",
       "       [ 9, 11, 10, 12, 14, 14],\n",
       "       [15, 17, 16, 18, 20, 20],\n",
       "       [21, 23, 22, 24, 26, 26],\n",
       "       [27, 29, 28, 30, 32, 32],\n",
       "       [33, 35, 34, 36, 38, 38]])"
      ]
     },
     "execution_count": 122,
     "metadata": {},
     "output_type": "execute_result"
    }
   ],
   "source": [
    "# row wise brodcasting operation\n",
    "array_6x6 + array_1x6"
   ]
  },
  {
   "cell_type": "code",
   "execution_count": 123,
   "id": "2b6a9ae1",
   "metadata": {},
   "outputs": [
    {
     "data": {
      "text/plain": [
       "array([2, 3, 1, 2, 3, 2])"
      ]
     },
     "execution_count": 123,
     "metadata": {},
     "output_type": "execute_result"
    }
   ],
   "source": [
    "array_1x6.T"
   ]
  },
  {
   "cell_type": "markdown",
   "id": "54c46287",
   "metadata": {},
   "source": [
    "we can't rotate 1d array, need to convert to 2d array"
   ]
  },
  {
   "cell_type": "code",
   "execution_count": 124,
   "id": "4790626e",
   "metadata": {},
   "outputs": [
    {
     "data": {
      "text/plain": [
       "array([[2, 3, 1, 2, 3, 2]])"
      ]
     },
     "execution_count": 124,
     "metadata": {},
     "output_type": "execute_result"
    }
   ],
   "source": [
    "array_2d_1x6 = array_1x6.reshape(1,-1)\n",
    "array_2d_1x6"
   ]
  },
  {
   "cell_type": "code",
   "execution_count": 125,
   "id": "4285792a",
   "metadata": {},
   "outputs": [
    {
     "data": {
      "text/plain": [
       "array([[2],\n",
       "       [3],\n",
       "       [1],\n",
       "       [2],\n",
       "       [3],\n",
       "       [2]])"
      ]
     },
     "execution_count": 125,
     "metadata": {},
     "output_type": "execute_result"
    }
   ],
   "source": [
    "array_2d_1x6.T"
   ]
  },
  {
   "cell_type": "code",
   "execution_count": 126,
   "id": "30e2ebbf",
   "metadata": {},
   "outputs": [
    {
     "data": {
      "text/plain": [
       "array([[ 1,  2,  3,  4,  5,  6],\n",
       "       [ 7,  8,  9, 10, 11, 12],\n",
       "       [13, 14, 15, 16, 17, 18],\n",
       "       [19, 20, 21, 22, 23, 24],\n",
       "       [25, 26, 27, 28, 29, 30],\n",
       "       [31, 32, 33, 34, 35, 36]])"
      ]
     },
     "execution_count": 126,
     "metadata": {},
     "output_type": "execute_result"
    }
   ],
   "source": [
    "array_6x6"
   ]
  },
  {
   "cell_type": "code",
   "execution_count": 127,
   "id": "487ded97",
   "metadata": {},
   "outputs": [
    {
     "data": {
      "text/plain": [
       "array([[ 3,  4,  5,  6,  7,  8],\n",
       "       [10, 11, 12, 13, 14, 15],\n",
       "       [14, 15, 16, 17, 18, 19],\n",
       "       [21, 22, 23, 24, 25, 26],\n",
       "       [28, 29, 30, 31, 32, 33],\n",
       "       [33, 34, 35, 36, 37, 38]])"
      ]
     },
     "execution_count": 127,
     "metadata": {},
     "output_type": "execute_result"
    }
   ],
   "source": [
    "# column wise brodcasting operation\n",
    "array_6x6 + array_2d_1x6.T"
   ]
  },
  {
   "cell_type": "code",
   "execution_count": 128,
   "id": "24706c87",
   "metadata": {},
   "outputs": [
    {
     "data": {
      "text/plain": [
       "array([[1.        , 1.41421356, 1.73205081, 2.        , 2.23606798,\n",
       "        2.44948974],\n",
       "       [2.64575131, 2.82842712, 3.        , 3.16227766, 3.31662479,\n",
       "        3.46410162],\n",
       "       [3.60555128, 3.74165739, 3.87298335, 4.        , 4.12310563,\n",
       "        4.24264069],\n",
       "       [4.35889894, 4.47213595, 4.58257569, 4.69041576, 4.79583152,\n",
       "        4.89897949],\n",
       "       [5.        , 5.09901951, 5.19615242, 5.29150262, 5.38516481,\n",
       "        5.47722558],\n",
       "       [5.56776436, 5.65685425, 5.74456265, 5.83095189, 5.91607978,\n",
       "        6.        ]])"
      ]
     },
     "execution_count": 128,
     "metadata": {},
     "output_type": "execute_result"
    }
   ],
   "source": [
    "np.sqrt(array_6x6)"
   ]
  },
  {
   "cell_type": "code",
   "execution_count": 129,
   "id": "b79c119a",
   "metadata": {},
   "outputs": [
    {
     "data": {
      "text/plain": [
       "array([[2.71828183e+00, 7.38905610e+00, 2.00855369e+01, 5.45981500e+01,\n",
       "        1.48413159e+02, 4.03428793e+02],\n",
       "       [1.09663316e+03, 2.98095799e+03, 8.10308393e+03, 2.20264658e+04,\n",
       "        5.98741417e+04, 1.62754791e+05],\n",
       "       [4.42413392e+05, 1.20260428e+06, 3.26901737e+06, 8.88611052e+06,\n",
       "        2.41549528e+07, 6.56599691e+07],\n",
       "       [1.78482301e+08, 4.85165195e+08, 1.31881573e+09, 3.58491285e+09,\n",
       "        9.74480345e+09, 2.64891221e+10],\n",
       "       [7.20048993e+10, 1.95729609e+11, 5.32048241e+11, 1.44625706e+12,\n",
       "        3.93133430e+12, 1.06864746e+13],\n",
       "       [2.90488497e+13, 7.89629602e+13, 2.14643580e+14, 5.83461743e+14,\n",
       "        1.58601345e+15, 4.31123155e+15]])"
      ]
     },
     "execution_count": 129,
     "metadata": {},
     "output_type": "execute_result"
    }
   ],
   "source": [
    "np.exp(array_6x6)"
   ]
  },
  {
   "cell_type": "code",
   "execution_count": 130,
   "id": "73b86587",
   "metadata": {},
   "outputs": [
    {
     "data": {
      "text/plain": [
       "array([[0.        , 0.30103   , 0.47712125, 0.60205999, 0.69897   ,\n",
       "        0.77815125],\n",
       "       [0.84509804, 0.90308999, 0.95424251, 1.        , 1.04139269,\n",
       "        1.07918125],\n",
       "       [1.11394335, 1.14612804, 1.17609126, 1.20411998, 1.23044892,\n",
       "        1.25527251],\n",
       "       [1.2787536 , 1.30103   , 1.32221929, 1.34242268, 1.36172784,\n",
       "        1.38021124],\n",
       "       [1.39794001, 1.41497335, 1.43136376, 1.44715803, 1.462398  ,\n",
       "        1.47712125],\n",
       "       [1.49136169, 1.50514998, 1.51851394, 1.53147892, 1.54406804,\n",
       "        1.5563025 ]])"
      ]
     },
     "execution_count": 130,
     "metadata": {},
     "output_type": "execute_result"
    }
   ],
   "source": [
    "np.log10(array_6x6)"
   ]
  },
  {
   "cell_type": "markdown",
   "id": "f8c6b4d5",
   "metadata": {},
   "source": [
    "## Deep Copy vs Shallow Copy"
   ]
  },
  {
   "cell_type": "code",
   "execution_count": 131,
   "id": "2afefdfa",
   "metadata": {},
   "outputs": [
    {
     "data": {
      "text/plain": [
       "array([1, 2, 3])"
      ]
     },
     "execution_count": 131,
     "metadata": {},
     "output_type": "execute_result"
    }
   ],
   "source": [
    "# shallow copy\n",
    "array_x = np.array([1,2,3])\n",
    "array_y = array_x\n",
    "array_y"
   ]
  },
  {
   "cell_type": "code",
   "execution_count": 132,
   "id": "22517dc9",
   "metadata": {},
   "outputs": [
    {
     "data": {
      "text/plain": [
       "array([1, 2, 3])"
      ]
     },
     "execution_count": 132,
     "metadata": {},
     "output_type": "execute_result"
    }
   ],
   "source": [
    "# deep copy\n",
    "array_z = np.copy(array_x)\n",
    "array_z"
   ]
  },
  {
   "cell_type": "code",
   "execution_count": 133,
   "id": "4ae6e6a8",
   "metadata": {},
   "outputs": [
    {
     "data": {
      "text/plain": [
       "array([100,   2,   3])"
      ]
     },
     "execution_count": 133,
     "metadata": {},
     "output_type": "execute_result"
    }
   ],
   "source": [
    "array_x[0] = 100\n",
    "array_x"
   ]
  },
  {
   "cell_type": "code",
   "execution_count": 134,
   "id": "7dffb434",
   "metadata": {},
   "outputs": [
    {
     "data": {
      "text/plain": [
       "array([100,   2,   3])"
      ]
     },
     "execution_count": 134,
     "metadata": {},
     "output_type": "execute_result"
    }
   ],
   "source": [
    "array_y"
   ]
  },
  {
   "cell_type": "code",
   "execution_count": 135,
   "id": "feba20bc",
   "metadata": {},
   "outputs": [
    {
     "data": {
      "text/plain": [
       "array([1, 2, 3])"
      ]
     },
     "execution_count": 135,
     "metadata": {},
     "output_type": "execute_result"
    }
   ],
   "source": [
    "array_z"
   ]
  },
  {
   "cell_type": "markdown",
   "id": "4c89da12",
   "metadata": {},
   "source": [
    "## id() function"
   ]
  },
  {
   "cell_type": "code",
   "execution_count": 136,
   "id": "7dd2d884",
   "metadata": {},
   "outputs": [
    {
     "data": {
      "text/plain": [
       "2095441817296"
      ]
     },
     "execution_count": 136,
     "metadata": {},
     "output_type": "execute_result"
    }
   ],
   "source": [
    "id(array_x)"
   ]
  },
  {
   "cell_type": "code",
   "execution_count": 137,
   "id": "0d360ad9",
   "metadata": {},
   "outputs": [
    {
     "data": {
      "text/plain": [
       "2095441817296"
      ]
     },
     "execution_count": 137,
     "metadata": {},
     "output_type": "execute_result"
    }
   ],
   "source": [
    "id(array_y)"
   ]
  },
  {
   "cell_type": "markdown",
   "id": "28df23d7",
   "metadata": {},
   "source": [
    "`array_x` and `array_y` id's are same"
   ]
  },
  {
   "cell_type": "code",
   "execution_count": 138,
   "id": "bf40fc09",
   "metadata": {},
   "outputs": [
    {
     "data": {
      "text/plain": [
       "2095441834416"
      ]
     },
     "execution_count": 138,
     "metadata": {},
     "output_type": "execute_result"
    }
   ],
   "source": [
    "id(array_z)"
   ]
  },
  {
   "cell_type": "code",
   "execution_count": 139,
   "id": "b2772a37",
   "metadata": {},
   "outputs": [
    {
     "data": {
      "text/plain": [
       "2095441771760"
      ]
     },
     "execution_count": 139,
     "metadata": {},
     "output_type": "execute_result"
    }
   ],
   "source": [
    "id(array_x[0])"
   ]
  },
  {
   "cell_type": "code",
   "execution_count": 140,
   "id": "fbf55b0c",
   "metadata": {},
   "outputs": [
    {
     "data": {
      "text/plain": [
       "2095441771600"
      ]
     },
     "execution_count": 140,
     "metadata": {},
     "output_type": "execute_result"
    }
   ],
   "source": [
    "id(array_y[0])"
   ]
  },
  {
   "cell_type": "markdown",
   "id": "0515fa17",
   "metadata": {},
   "source": [
    "however `array_x[0]` and `array_y[0]` id's are not same"
   ]
  },
  {
   "cell_type": "code",
   "execution_count": 141,
   "id": "7cf325a4",
   "metadata": {},
   "outputs": [
    {
     "data": {
      "text/plain": [
       "True"
      ]
     },
     "execution_count": 141,
     "metadata": {},
     "output_type": "execute_result"
    }
   ],
   "source": [
    "id(array_x[0]) == id(array_y[0])"
   ]
  },
  {
   "cell_type": "markdown",
   "id": "64ee283a",
   "metadata": {},
   "source": [
    "what???????"
   ]
  },
  {
   "cell_type": "code",
   "execution_count": 142,
   "id": "d9579dfd",
   "metadata": {},
   "outputs": [
    {
     "data": {
      "text/plain": [
       "False"
      ]
     },
     "execution_count": 142,
     "metadata": {},
     "output_type": "execute_result"
    }
   ],
   "source": [
    "first_name = 'bhanu'\n",
    "id(first_name) == id(array_x[0])"
   ]
  },
  {
   "cell_type": "code",
   "execution_count": 143,
   "id": "5c2b240f",
   "metadata": {},
   "outputs": [
    {
     "data": {
      "text/plain": [
       "False"
      ]
     },
     "execution_count": 143,
     "metadata": {},
     "output_type": "execute_result"
    }
   ],
   "source": [
    "last_name = 'singh'\n",
    "id(first_name) == id(last_name)"
   ]
  },
  {
   "cell_type": "markdown",
   "id": "f6cd3da4",
   "metadata": {},
   "source": [
    "earlier they were refering to same object"
   ]
  }
 ],
 "metadata": {
  "kernelspec": {
   "display_name": "Python 3 (ipykernel)",
   "language": "python",
   "name": "python3"
  },
  "language_info": {
   "codemirror_mode": {
    "name": "ipython",
    "version": 3
   },
   "file_extension": ".py",
   "mimetype": "text/x-python",
   "name": "python",
   "nbconvert_exporter": "python",
   "pygments_lexer": "ipython3",
   "version": "3.9.7"
  }
 },
 "nbformat": 4,
 "nbformat_minor": 5
}
